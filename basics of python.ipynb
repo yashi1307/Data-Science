{
 "cells": [
  {
   "cell_type": "code",
   "execution_count": 1,
   "id": "0a59d52f",
   "metadata": {},
   "outputs": [
    {
     "data": {
      "text/plain": [
       "4"
      ]
     },
     "execution_count": 1,
     "metadata": {},
     "output_type": "execute_result"
    }
   ],
   "source": [
    "#python work as calculator , we dont need to define variable for these kind of calculaions , also for heavy calculation.\n",
    "2+2"
   ]
  },
  {
   "cell_type": "code",
   "execution_count": 2,
   "id": "c636f49d",
   "metadata": {},
   "outputs": [
    {
     "data": {
      "text/plain": [
       "0.5"
      ]
     },
     "execution_count": 2,
     "metadata": {},
     "output_type": "execute_result"
    }
   ],
   "source": [
    "# division(/) always return float value\n",
    "2/4"
   ]
  },
  {
   "cell_type": "code",
   "execution_count": 4,
   "id": "3a2d832a",
   "metadata": {},
   "outputs": [
    {
     "data": {
      "text/plain": [
       "1.0"
      ]
     },
     "execution_count": 4,
     "metadata": {},
     "output_type": "execute_result"
    }
   ],
   "source": [
    "3/3"
   ]
  },
  {
   "cell_type": "code",
   "execution_count": 5,
   "id": "c60f9204",
   "metadata": {},
   "outputs": [
    {
     "data": {
      "text/plain": [
       "1"
      ]
     },
     "execution_count": 5,
     "metadata": {},
     "output_type": "execute_result"
    }
   ],
   "source": [
    "# we can have integer value on by division using -(//)\n",
    "3//3"
   ]
  },
  {
   "cell_type": "code",
   "execution_count": 7,
   "id": "78588f76",
   "metadata": {},
   "outputs": [
    {
     "data": {
      "text/plain": [
       "0"
      ]
     },
     "execution_count": 7,
     "metadata": {},
     "output_type": "execute_result"
    }
   ],
   "source": [
    "# %-operator returns the remainder.\n",
    "3%3"
   ]
  },
  {
   "cell_type": "code",
   "execution_count": 8,
   "id": "140d2db7",
   "metadata": {},
   "outputs": [
    {
     "data": {
      "text/plain": [
       "3"
      ]
     },
     "execution_count": 8,
     "metadata": {},
     "output_type": "execute_result"
    }
   ],
   "source": [
    "3%5"
   ]
  },
  {
   "cell_type": "code",
   "execution_count": 9,
   "id": "507e0d6c",
   "metadata": {},
   "outputs": [
    {
     "data": {
      "text/plain": [
       "128"
      ]
     },
     "execution_count": 9,
     "metadata": {},
     "output_type": "execute_result"
    }
   ],
   "source": [
    "# use the (**)operator to calculate powers.\n",
    "2**7       # 2 raise to power 7"
   ]
  },
  {
   "cell_type": "code",
   "execution_count": 10,
   "id": "3a4eae8a",
   "metadata": {},
   "outputs": [
    {
     "data": {
      "text/plain": [
       "9"
      ]
     },
     "execution_count": 10,
     "metadata": {},
     "output_type": "execute_result"
    }
   ],
   "source": [
    "3**2       # 3 rasie to power 2"
   ]
  },
  {
   "cell_type": "code",
   "execution_count": 11,
   "id": "13c6fe55",
   "metadata": {},
   "outputs": [
    {
     "data": {
      "text/plain": [
       "200"
      ]
     },
     "execution_count": 11,
     "metadata": {},
     "output_type": "execute_result"
    }
   ],
   "source": [
    "# the equal sign(=) is used to assign a value to a variable\n",
    "width=10\n",
    "height=20\n",
    "width*height"
   ]
  },
  {
   "cell_type": "code",
   "execution_count": 12,
   "id": "85e22892",
   "metadata": {},
   "outputs": [
    {
     "ename": "NameError",
     "evalue": "name 'n' is not defined",
     "output_type": "error",
     "traceback": [
      "\u001b[1;31m---------------------------------------------------------------------------\u001b[0m",
      "\u001b[1;31mNameError\u001b[0m                                 Traceback (most recent call last)",
      "Input \u001b[1;32mIn [12]\u001b[0m, in \u001b[0;36m<cell line: 2>\u001b[1;34m()\u001b[0m\n\u001b[0;32m      1\u001b[0m \u001b[38;5;66;03m# if a variable is not defined , i.e if no value assigned then it will give error.\u001b[39;00m\n\u001b[1;32m----> 2\u001b[0m \u001b[43mn\u001b[49m\n",
      "\u001b[1;31mNameError\u001b[0m: name 'n' is not defined"
     ]
    }
   ],
   "source": [
    "# if a variable is not defined , i.e if no value assigned then it will give error.\n",
    "n      #here no value is assigned to variable 'n'"
   ]
  },
  {
   "cell_type": "code",
   "execution_count": 13,
   "id": "ee96e80d",
   "metadata": {},
   "outputs": [],
   "source": [
    "# and if valeis assigned to variable , then it wil be defined\n",
    "n=10          #variale 'n ' with value 10"
   ]
  },
  {
   "cell_type": "code",
   "execution_count": 14,
   "id": "3325329a",
   "metadata": {},
   "outputs": [
    {
     "data": {
      "text/plain": [
       "0.0"
      ]
     },
     "execution_count": 14,
     "metadata": {},
     "output_type": "execute_result"
    }
   ],
   "source": [
    "# operator with mixed operand convert the integer to float \n",
    "# i.e if there are mixed integer and float in calculation , then will output in 'float'\n",
    "\n",
    "4*2-8.0"
   ]
  },
  {
   "cell_type": "code",
   "execution_count": 16,
   "id": "d12d16a0",
   "metadata": {},
   "outputs": [
    {
     "data": {
      "text/plain": [
       "'unununium'"
      ]
     },
     "execution_count": 16,
     "metadata": {},
     "output_type": "execute_result"
    }
   ],
   "source": [
    "# sting can be concatnated by using (+)operator and repated with (*)operator\n",
    "\n",
    "3*'un'+'ium'\n"
   ]
  },
  {
   "cell_type": "code",
   "execution_count": 17,
   "id": "b0646300",
   "metadata": {},
   "outputs": [
    {
     "data": {
      "text/plain": [
       "'python'"
      ]
     },
     "execution_count": 17,
     "metadata": {},
     "output_type": "execute_result"
    }
   ],
   "source": [
    "# two or more strings literals next to each other are automatically concatenated\n",
    "\n",
    "'py' 'thon'      # this doesn't work with variables , only with literals ()"
   ]
  },
  {
   "cell_type": "code",
   "execution_count": 18,
   "id": "d4285c63",
   "metadata": {},
   "outputs": [
    {
     "data": {
      "text/plain": [
       "'python'"
      ]
     },
     "execution_count": 18,
     "metadata": {},
     "output_type": "execute_result"
    }
   ],
   "source": [
    "# if you want to concatenate variable and literal using (+)\n",
    "\n",
    "prefix= 'py'   # variable defined\n",
    "prefix+'thon'     # thon is literal"
   ]
  },
  {
   "cell_type": "code",
   "execution_count": null,
   "id": "fe16a1a4",
   "metadata": {},
   "outputs": [],
   "source": []
  }
 ],
 "metadata": {
  "kernelspec": {
   "display_name": "Python 3 (ipykernel)",
   "language": "python",
   "name": "python3"
  },
  "language_info": {
   "codemirror_mode": {
    "name": "ipython",
    "version": 3
   },
   "file_extension": ".py",
   "mimetype": "text/x-python",
   "name": "python",
   "nbconvert_exporter": "python",
   "pygments_lexer": "ipython3",
   "version": "3.9.12"
  }
 },
 "nbformat": 4,
 "nbformat_minor": 5
}
