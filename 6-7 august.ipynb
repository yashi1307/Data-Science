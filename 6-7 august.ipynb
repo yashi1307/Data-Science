{
 "cells": [
  {
   "cell_type": "code",
   "execution_count": 1,
   "id": "7ab34708",
   "metadata": {},
   "outputs": [
    {
     "name": "stdout",
     "output_type": "stream",
     "text": [
      "['False', 'None', 'True', '__peg_parser__', 'and', 'as', 'assert', 'async', 'await', 'break', 'class', 'continue', 'def', 'del', 'elif', 'else', 'except', 'finally', 'for', 'from', 'global', 'if', 'import', 'in', 'is', 'lambda', 'nonlocal', 'not', 'or', 'pass', 'raise', 'return', 'try', 'while', 'with', 'yield']\n"
     ]
    }
   ],
   "source": [
    "import keyword\n",
    "print (keyword.kwlist)"
   ]
  },
  {
   "cell_type": "raw",
   "id": "1bc901ca",
   "metadata": {},
   "source": [
    "true and false"
   ]
  },
  {
   "cell_type": "code",
   "execution_count": 3,
   "id": "46f911f5",
   "metadata": {},
   "outputs": [
    {
     "data": {
      "text/plain": [
       "False"
      ]
     },
     "execution_count": 3,
     "metadata": {},
     "output_type": "execute_result"
    }
   ],
   "source": [
    "True and False"
   ]
  },
  {
   "cell_type": "code",
   "execution_count": 4,
   "id": "629d528a",
   "metadata": {},
   "outputs": [
    {
     "data": {
      "text/plain": [
       "True"
      ]
     },
     "execution_count": 4,
     "metadata": {},
     "output_type": "execute_result"
    }
   ],
   "source": [
    "True and True\n"
   ]
  },
  {
   "cell_type": "code",
   "execution_count": 5,
   "id": "6607fb61",
   "metadata": {},
   "outputs": [
    {
     "data": {
      "text/plain": [
       "False"
      ]
     },
     "execution_count": 5,
     "metadata": {},
     "output_type": "execute_result"
    }
   ],
   "source": [
    "not True"
   ]
  },
  {
   "cell_type": "code",
   "execution_count": 6,
   "id": "149d690f",
   "metadata": {},
   "outputs": [
    {
     "data": {
      "text/plain": [
       "True"
      ]
     },
     "execution_count": 6,
     "metadata": {},
     "output_type": "execute_result"
    }
   ],
   "source": [
    "not False"
   ]
  },
  {
   "cell_type": "code",
   "execution_count": 7,
   "id": "6ecc8258",
   "metadata": {},
   "outputs": [
    {
     "data": {
      "text/plain": [
       "True"
      ]
     },
     "execution_count": 7,
     "metadata": {},
     "output_type": "execute_result"
    }
   ],
   "source": [
    "True and False or True"
   ]
  },
  {
   "cell_type": "code",
   "execution_count": 8,
   "id": "6019c4e4",
   "metadata": {},
   "outputs": [
    {
     "data": {
      "text/plain": [
       "True"
      ]
     },
     "execution_count": 8,
     "metadata": {},
     "output_type": "execute_result"
    }
   ],
   "source": [
    "True is True"
   ]
  },
  {
   "cell_type": "code",
   "execution_count": 9,
   "id": "5d8eb81c",
   "metadata": {},
   "outputs": [
    {
     "data": {
      "text/plain": [
       "False"
      ]
     },
     "execution_count": 9,
     "metadata": {},
     "output_type": "execute_result"
    }
   ],
   "source": [
    "True is False"
   ]
  },
  {
   "cell_type": "code",
   "execution_count": 10,
   "id": "f02830e5",
   "metadata": {},
   "outputs": [
    {
     "name": "stderr",
     "output_type": "stream",
     "text": [
      "<>:1: SyntaxWarning: \"is\" with a literal. Did you mean \"==\"?\n",
      "<>:1: SyntaxWarning: \"is\" with a literal. Did you mean \"==\"?\n",
      "C:\\Users\\hp\\AppData\\Local\\Temp\\ipykernel_6040\\3976285562.py:1: SyntaxWarning: \"is\" with a literal. Did you mean \"==\"?\n",
      "  'b' is 'c'\n"
     ]
    },
    {
     "data": {
      "text/plain": [
       "False"
      ]
     },
     "execution_count": 10,
     "metadata": {},
     "output_type": "execute_result"
    }
   ],
   "source": [
    "'b' is 'c'"
   ]
  },
  {
   "cell_type": "code",
   "execution_count": 11,
   "id": "3664f945",
   "metadata": {},
   "outputs": [
    {
     "name": "stderr",
     "output_type": "stream",
     "text": [
      "<>:1: SyntaxWarning: \"is\" with a literal. Did you mean \"==\"?\n",
      "<>:1: SyntaxWarning: \"is\" with a literal. Did you mean \"==\"?\n",
      "C:\\Users\\hp\\AppData\\Local\\Temp\\ipykernel_6040\\4034184141.py:1: SyntaxWarning: \"is\" with a literal. Did you mean \"==\"?\n",
      "  'b' is 'b'\n"
     ]
    },
    {
     "data": {
      "text/plain": [
       "True"
      ]
     },
     "execution_count": 11,
     "metadata": {},
     "output_type": "execute_result"
    }
   ],
   "source": [
    "'b' is 'b'"
   ]
  },
  {
   "cell_type": "code",
   "execution_count": 12,
   "id": "0096db40",
   "metadata": {},
   "outputs": [
    {
     "name": "stderr",
     "output_type": "stream",
     "text": [
      "<>:1: SyntaxWarning: \"is\" with a literal. Did you mean \"==\"?\n",
      "<>:1: SyntaxWarning: \"is\" with a literal. Did you mean \"==\"?\n",
      "C:\\Users\\hp\\AppData\\Local\\Temp\\ipykernel_6040\\100162287.py:1: SyntaxWarning: \"is\" with a literal. Did you mean \"==\"?\n",
      "  10 is 11\n"
     ]
    },
    {
     "data": {
      "text/plain": [
       "False"
      ]
     },
     "execution_count": 12,
     "metadata": {},
     "output_type": "execute_result"
    }
   ],
   "source": [
    "10 is 11"
   ]
  },
  {
   "cell_type": "code",
   "execution_count": 13,
   "id": "30219e0a",
   "metadata": {},
   "outputs": [
    {
     "name": "stderr",
     "output_type": "stream",
     "text": [
      "<>:1: SyntaxWarning: \"is\" with a literal. Did you mean \"==\"?\n",
      "<>:1: SyntaxWarning: \"is\" with a literal. Did you mean \"==\"?\n",
      "C:\\Users\\hp\\AppData\\Local\\Temp\\ipykernel_6040\\3938569512.py:1: SyntaxWarning: \"is\" with a literal. Did you mean \"==\"?\n",
      "  10 is 10\n"
     ]
    },
    {
     "data": {
      "text/plain": [
       "True"
      ]
     },
     "execution_count": 13,
     "metadata": {},
     "output_type": "execute_result"
    }
   ],
   "source": [
    "10 is 10"
   ]
  },
  {
   "cell_type": "code",
   "execution_count": 14,
   "id": "f9e3b25a",
   "metadata": {},
   "outputs": [
    {
     "ename": "SyntaxError",
     "evalue": "cannot assign to operator (128008171.py, line 1)",
     "output_type": "error",
     "traceback": [
      "\u001b[1;36m  Input \u001b[1;32mIn [14]\u001b[1;36m\u001b[0m\n\u001b[1;33m    10-10=0\u001b[0m\n\u001b[1;37m    ^\u001b[0m\n\u001b[1;31mSyntaxError\u001b[0m\u001b[1;31m:\u001b[0m cannot assign to operator\n"
     ]
    }
   ],
   "source": [
    "10-10=0"
   ]
  },
  {
   "cell_type": "code",
   "execution_count": 15,
   "id": "742642fb",
   "metadata": {},
   "outputs": [
    {
     "data": {
      "text/plain": [
       "True"
      ]
     },
     "execution_count": 15,
     "metadata": {},
     "output_type": "execute_result"
    }
   ],
   "source": [
    "10-10==0"
   ]
  },
  {
   "cell_type": "code",
   "execution_count": 16,
   "id": "d48f708e",
   "metadata": {},
   "outputs": [
    {
     "data": {
      "text/plain": [
       "2"
      ]
     },
     "execution_count": 16,
     "metadata": {},
     "output_type": "execute_result"
    }
   ],
   "source": [
    "True + True"
   ]
  },
  {
   "cell_type": "code",
   "execution_count": 17,
   "id": "f93b6ca8",
   "metadata": {},
   "outputs": [],
   "source": [
    "a = 20"
   ]
  },
  {
   "cell_type": "code",
   "execution_count": 18,
   "id": "96755a8d",
   "metadata": {},
   "outputs": [
    {
     "name": "stdout",
     "output_type": "stream",
     "text": [
      "20\n"
     ]
    }
   ],
   "source": [
    "print(a)"
   ]
  },
  {
   "cell_type": "code",
   "execution_count": 19,
   "id": "676ad8c1",
   "metadata": {},
   "outputs": [
    {
     "data": {
      "text/plain": [
       "int"
      ]
     },
     "execution_count": 19,
     "metadata": {},
     "output_type": "execute_result"
    }
   ],
   "source": [
    "type(a)"
   ]
  },
  {
   "cell_type": "code",
   "execution_count": 20,
   "id": "cf3dc682",
   "metadata": {},
   "outputs": [],
   "source": [
    "b=20.0"
   ]
  },
  {
   "cell_type": "code",
   "execution_count": 21,
   "id": "0574dc80",
   "metadata": {},
   "outputs": [
    {
     "name": "stdout",
     "output_type": "stream",
     "text": [
      "20.0\n"
     ]
    }
   ],
   "source": [
    "print(b)"
   ]
  },
  {
   "cell_type": "code",
   "execution_count": 22,
   "id": "cc16a0ca",
   "metadata": {},
   "outputs": [
    {
     "data": {
      "text/plain": [
       "float"
      ]
     },
     "execution_count": 22,
     "metadata": {},
     "output_type": "execute_result"
    }
   ],
   "source": [
    "type(b)"
   ]
  },
  {
   "cell_type": "code",
   "execution_count": 23,
   "id": "e739c80a",
   "metadata": {},
   "outputs": [],
   "source": [
    "#not executable anything we write with this hash(#)\n",
    "\n",
    "a=10\n",
    "b=20"
   ]
  },
  {
   "cell_type": "code",
   "execution_count": 24,
   "id": "66153330",
   "metadata": {},
   "outputs": [],
   "source": [
    "c=a+b"
   ]
  },
  {
   "cell_type": "code",
   "execution_count": 25,
   "id": "24e2841c",
   "metadata": {},
   "outputs": [
    {
     "name": "stdout",
     "output_type": "stream",
     "text": [
      "30\n"
     ]
    }
   ],
   "source": [
    "print(c)"
   ]
  },
  {
   "cell_type": "code",
   "execution_count": 26,
   "id": "2dc71cbb",
   "metadata": {},
   "outputs": [
    {
     "name": "stdout",
     "output_type": "stream",
     "text": [
      "300\n"
     ]
    }
   ],
   "source": [
    "print(c*10)"
   ]
  },
  {
   "cell_type": "code",
   "execution_count": 27,
   "id": "2f1a64c5",
   "metadata": {},
   "outputs": [
    {
     "ename": "SyntaxError",
     "evalue": "invalid syntax (2357657603.py, line 1)",
     "output_type": "error",
     "traceback": [
      "\u001b[1;36m  Input \u001b[1;32mIn [27]\u001b[1;36m\u001b[0m\n\u001b[1;33m    c=6+2i\u001b[0m\n\u001b[1;37m         ^\u001b[0m\n\u001b[1;31mSyntaxError\u001b[0m\u001b[1;31m:\u001b[0m invalid syntax\n"
     ]
    }
   ],
   "source": [
    "c=6+2i"
   ]
  },
  {
   "cell_type": "code",
   "execution_count": 28,
   "id": "1d9d7fdc",
   "metadata": {},
   "outputs": [],
   "source": [
    "c = 6+2j"
   ]
  },
  {
   "cell_type": "code",
   "execution_count": 29,
   "id": "c9ce1fdd",
   "metadata": {},
   "outputs": [
    {
     "name": "stdout",
     "output_type": "stream",
     "text": [
      "(6+2j)\n"
     ]
    }
   ],
   "source": [
    "print(c)"
   ]
  },
  {
   "cell_type": "code",
   "execution_count": 30,
   "id": "df306016",
   "metadata": {},
   "outputs": [
    {
     "data": {
      "text/plain": [
       "complex"
      ]
     },
     "execution_count": 30,
     "metadata": {},
     "output_type": "execute_result"
    }
   ],
   "source": [
    "type(c)"
   ]
  },
  {
   "cell_type": "code",
   "execution_count": 31,
   "id": "2d3deccb",
   "metadata": {},
   "outputs": [
    {
     "name": "stdout",
     "output_type": "stream",
     "text": [
      "hello world\n"
     ]
    }
   ],
   "source": [
    "# string(text) must be written in single , double, triple quotes . mostly in single and double.\n",
    "\n",
    "print(\"hello world\")"
   ]
  },
  {
   "cell_type": "code",
   "execution_count": 32,
   "id": "ae8c0244",
   "metadata": {},
   "outputs": [
    {
     "name": "stdout",
     "output_type": "stream",
     "text": [
      "10 20\n"
     ]
    }
   ],
   "source": [
    "print('10 20')"
   ]
  },
  {
   "cell_type": "code",
   "execution_count": 33,
   "id": "2b38d1ad",
   "metadata": {},
   "outputs": [
    {
     "data": {
      "text/plain": [
       "False"
      ]
     },
     "execution_count": 33,
     "metadata": {},
     "output_type": "execute_result"
    }
   ],
   "source": [
    "10==20"
   ]
  },
  {
   "cell_type": "code",
   "execution_count": 34,
   "id": "b899d92e",
   "metadata": {},
   "outputs": [
    {
     "name": "stdout",
     "output_type": "stream",
     "text": [
      "10 20\n"
     ]
    }
   ],
   "source": [
    "print(\"10 20\")"
   ]
  },
  {
   "cell_type": "code",
   "execution_count": 38,
   "id": "b53bb4c0",
   "metadata": {},
   "outputs": [],
   "source": [
    "a=\"i\"\n",
    "b=\" am\"\n",
    "c=\" yashika\""
   ]
  },
  {
   "cell_type": "code",
   "execution_count": 39,
   "id": "fdaf134c",
   "metadata": {},
   "outputs": [
    {
     "name": "stdout",
     "output_type": "stream",
     "text": [
      "i am yashika\n"
     ]
    }
   ],
   "source": [
    "print(a + b + c)"
   ]
  },
  {
   "cell_type": "code",
   "execution_count": 40,
   "id": "12308b94",
   "metadata": {},
   "outputs": [
    {
     "data": {
      "text/plain": [
       "str"
      ]
     },
     "execution_count": 40,
     "metadata": {},
     "output_type": "execute_result"
    }
   ],
   "source": [
    "type(a)"
   ]
  },
  {
   "cell_type": "code",
   "execution_count": 44,
   "id": "3d17aa76",
   "metadata": {},
   "outputs": [
    {
     "name": "stdout",
     "output_type": "stream",
     "text": [
      "i am yashika\n"
     ]
    }
   ],
   "source": [
    "print('i'+ ' am' + ' yashika')"
   ]
  },
  {
   "cell_type": "code",
   "execution_count": 47,
   "id": "7cfe3f36",
   "metadata": {},
   "outputs": [
    {
     "name": "stdout",
     "output_type": "stream",
     "text": [
      " day day day day day\n"
     ]
    }
   ],
   "source": [
    "print(' day'*  5)"
   ]
  },
  {
   "cell_type": "code",
   "execution_count": 48,
   "id": "631eb6b3",
   "metadata": {},
   "outputs": [
    {
     "name": "stdout",
     "output_type": "stream",
     "text": [
      "- - - - - - - - - - - - - - - - - - - - - - - - - - - - - - - - - - - - - - - - - - - - - - - - - - - - - - - - - - - - - - - - - - - - - - - - - - - - - - - - - - - - - - - - - - - - - - - - - - - - - - - - - - - - - - - - - - - - - - - - - - - - - - - - - - - - - - - - - - - - - - - - - - - - - - - - - - - - - - - - - - - - - - - - - - - - - - - - - - - - - - - - - - - - - - - - - - - - - - - - \n"
     ]
    }
   ],
   "source": [
    "print(\"- \"*200)"
   ]
  },
  {
   "cell_type": "code",
   "execution_count": 50,
   "id": "ed31f7c6",
   "metadata": {},
   "outputs": [
    {
     "name": "stdout",
     "output_type": "stream",
     "text": [
      "day 2\n"
     ]
    }
   ],
   "source": [
    "print(\"day \"+str(2))"
   ]
  },
  {
   "cell_type": "code",
   "execution_count": 51,
   "id": "9df47588",
   "metadata": {},
   "outputs": [
    {
     "ename": "ValueError",
     "evalue": "invalid literal for int() with base 10: 'day'",
     "output_type": "error",
     "traceback": [
      "\u001b[1;31m---------------------------------------------------------------------------\u001b[0m",
      "\u001b[1;31mValueError\u001b[0m                                Traceback (most recent call last)",
      "Input \u001b[1;32mIn [51]\u001b[0m, in \u001b[0;36m<cell line: 1>\u001b[1;34m()\u001b[0m\n\u001b[1;32m----> 1\u001b[0m \u001b[38;5;28mprint\u001b[39m(\u001b[38;5;28;43mint\u001b[39;49m\u001b[43m(\u001b[49m\u001b[38;5;124;43m\"\u001b[39;49m\u001b[38;5;124;43mday\u001b[39;49m\u001b[38;5;124;43m\"\u001b[39;49m\u001b[43m)\u001b[49m\u001b[38;5;241m+\u001b[39m\u001b[38;5;241m2\u001b[39m)\n",
      "\u001b[1;31mValueError\u001b[0m: invalid literal for int() with base 10: 'day'"
     ]
    }
   ],
   "source": [
    "# we can't covert string into in , but vice versa , as previous 2 in coverted into str(2)\n",
    "\n",
    "print(int(\"day\")+2)"
   ]
  },
  {
   "cell_type": "code",
   "execution_count": 55,
   "id": "3057fd7c",
   "metadata": {},
   "outputs": [
    {
     "data": {
      "text/plain": [
       "['a', 'b', 'c']"
      ]
     },
     "execution_count": 55,
     "metadata": {},
     "output_type": "execute_result"
    }
   ],
   "source": [
    "# list - all elements of list are writeen n square brackets.\n",
    "\n",
    "l= ['a', 'b', 'c']\n",
    "l"
   ]
  },
  {
   "cell_type": "code",
   "execution_count": 57,
   "id": "9d2c94e9",
   "metadata": {},
   "outputs": [
    {
     "data": {
      "text/plain": [
       "['a', 'b', 'c']"
      ]
     },
     "execution_count": 57,
     "metadata": {},
     "output_type": "execute_result"
    }
   ],
   "source": [
    "b=list(l)\n",
    "b"
   ]
  },
  {
   "cell_type": "code",
   "execution_count": 59,
   "id": "bc99a98f",
   "metadata": {},
   "outputs": [
    {
     "data": {
      "text/plain": [
       "[10, 30, 56, 78, 93]"
      ]
     },
     "execution_count": 59,
     "metadata": {},
     "output_type": "execute_result"
    }
   ],
   "source": [
    "marks= [10,30,56,78,93]\n",
    "marks"
   ]
  },
  {
   "cell_type": "code",
   "execution_count": 63,
   "id": "0fba0c57",
   "metadata": {},
   "outputs": [
    {
     "data": {
      "text/plain": [
       "[10, 30, 56, 78, 93]"
      ]
     },
     "execution_count": 63,
     "metadata": {},
     "output_type": "execute_result"
    }
   ],
   "source": [
    "# if we want to copy any list , then just enter list nam and then use .copy , to copy that list.\n",
    "\n",
    "marks.copy()"
   ]
  },
  {
   "cell_type": "code",
   "execution_count": 64,
   "id": "913b0df6",
   "metadata": {},
   "outputs": [
    {
     "data": {
      "text/plain": [
       "['y', 'a', 's', 'h', 'i', 'k', 'a']"
      ]
     },
     "execution_count": 64,
     "metadata": {},
     "output_type": "execute_result"
    }
   ],
   "source": [
    "list('yashika')"
   ]
  },
  {
   "cell_type": "code",
   "execution_count": 68,
   "id": "2aba7d62",
   "metadata": {},
   "outputs": [],
   "source": [
    "employee =[]"
   ]
  },
  {
   "cell_type": "code",
   "execution_count": 69,
   "id": "78565726",
   "metadata": {},
   "outputs": [],
   "source": [
    "# if we want tto add something at the end of the list then we will use append and print that.\n",
    "employee.append('radha')"
   ]
  },
  {
   "cell_type": "code",
   "execution_count": 70,
   "id": "984904e3",
   "metadata": {},
   "outputs": [
    {
     "name": "stdout",
     "output_type": "stream",
     "text": [
      "['radha']\n"
     ]
    }
   ],
   "source": [
    "print(employee)"
   ]
  },
  {
   "cell_type": "code",
   "execution_count": 71,
   "id": "8bffdafd",
   "metadata": {},
   "outputs": [
    {
     "name": "stdout",
     "output_type": "stream",
     "text": [
      "['radha', 'jack', 'harsh']\n"
     ]
    }
   ],
   "source": [
    "employee.append('jack')\n",
    "employee.append('harsh')\n",
    "print(employee)"
   ]
  },
  {
   "cell_type": "code",
   "execution_count": 74,
   "id": "cc870b34",
   "metadata": {},
   "outputs": [],
   "source": [
    "# if we want to add something in b/w the list , then index will start from 0 as address and upto so on , \n",
    "#so firstly use insert and then write index and data then print again\n",
    "\n",
    "employee.insert(1,\"d'souza\")"
   ]
  },
  {
   "cell_type": "code",
   "execution_count": 75,
   "id": "15eca6b3",
   "metadata": {},
   "outputs": [
    {
     "name": "stdout",
     "output_type": "stream",
     "text": [
      "['radha', \"d'souza\", 'jack', 'harsh']\n"
     ]
    }
   ],
   "source": [
    "print(employee)"
   ]
  },
  {
   "cell_type": "code",
   "execution_count": 76,
   "id": "0c430188",
   "metadata": {},
   "outputs": [],
   "source": [
    "emp_salary = [1000,3000,4000,3800]\n"
   ]
  },
  {
   "cell_type": "code",
   "execution_count": 77,
   "id": "3abc22b1",
   "metadata": {},
   "outputs": [],
   "source": [
    "emp_salary= emp_salary.insert(0,2000)\n",
    "emp_salary"
   ]
  },
  {
   "cell_type": "code",
   "execution_count": 79,
   "id": "091c893e",
   "metadata": {},
   "outputs": [
    {
     "name": "stdout",
     "output_type": "stream",
     "text": [
      "None\n"
     ]
    }
   ],
   "source": [
    "print(emp_salary)"
   ]
  },
  {
   "cell_type": "code",
   "execution_count": 80,
   "id": "74493766",
   "metadata": {},
   "outputs": [
    {
     "data": {
      "text/plain": [
       "4"
      ]
     },
     "execution_count": 80,
     "metadata": {},
     "output_type": "execute_result"
    }
   ],
   "source": [
    "# to know the length and number of elements in list.\n",
    "\n",
    "len(employee)"
   ]
  },
  {
   "cell_type": "code",
   "execution_count": 81,
   "id": "f68209d5",
   "metadata": {},
   "outputs": [
    {
     "data": {
      "text/plain": [
       "['radha', \"d'souza\", 'jack', 'harsh']"
      ]
     },
     "execution_count": 81,
     "metadata": {},
     "output_type": "execute_result"
    }
   ],
   "source": [
    "# direct use list anywhere just by name and run\n",
    "\n",
    "employee\n"
   ]
  },
  {
   "cell_type": "code",
   "execution_count": 82,
   "id": "0d799943",
   "metadata": {},
   "outputs": [
    {
     "data": {
      "text/plain": [
       "'jack'"
      ]
     },
     "execution_count": 82,
     "metadata": {},
     "output_type": "execute_result"
    }
   ],
   "source": [
    "# to find elment of list just by index , use this \n",
    "\n",
    "employee[2]"
   ]
  },
  {
   "cell_type": "code",
   "execution_count": 83,
   "id": "5d8087e2",
   "metadata": {},
   "outputs": [
    {
     "data": {
      "text/plain": [
       "'harsh'"
      ]
     },
     "execution_count": 83,
     "metadata": {},
     "output_type": "execute_result"
    }
   ],
   "source": [
    "employee[3]"
   ]
  },
  {
   "cell_type": "code",
   "execution_count": 84,
   "id": "6faf1307",
   "metadata": {},
   "outputs": [],
   "source": [
    "# to chnge any element name . the just write file name with index and then that name we wanna change , then print.\n",
    "\n",
    "employee[1]='rani'"
   ]
  },
  {
   "cell_type": "code",
   "execution_count": 85,
   "id": "efb67d54",
   "metadata": {},
   "outputs": [
    {
     "name": "stdout",
     "output_type": "stream",
     "text": [
      "['radha', 'rani', 'jack', 'harsh']\n"
     ]
    }
   ],
   "source": [
    "print(employee)"
   ]
  },
  {
   "cell_type": "code",
   "execution_count": 88,
   "id": "ef27ba22",
   "metadata": {},
   "outputs": [
    {
     "data": {
      "text/plain": [
       "['rani', 'jack', 'harsh']"
      ]
     },
     "execution_count": 88,
     "metadata": {},
     "output_type": "execute_result"
    }
   ],
   "source": [
    "# if we want to know all the elements after an particular index like here after index 1 ,\n",
    "# so before : it's starting index and after that it is ending\n",
    "\n",
    "employee[1:]"
   ]
  },
  {
   "cell_type": "code",
   "execution_count": 89,
   "id": "c7bcb0ac",
   "metadata": {},
   "outputs": [
    {
     "data": {
      "text/plain": [
       "['rani', 'jack']"
      ]
     },
     "execution_count": 89,
     "metadata": {},
     "output_type": "execute_result"
    }
   ],
   "source": [
    "# note: if we give both starting and ending index then it will only gives in b/w as open set.\n",
    "\n",
    "employee[1:3]"
   ]
  },
  {
   "cell_type": "code",
   "execution_count": 90,
   "id": "ece2d762",
   "metadata": {},
   "outputs": [
    {
     "data": {
      "text/plain": [
       "['radha', 'rani', 'jack']"
      ]
     },
     "execution_count": 90,
     "metadata": {},
     "output_type": "execute_result"
    }
   ],
   "source": [
    "# here ending index is given so we want to know all elements before index 3.\n",
    "\n",
    "employee[ :3]"
   ]
  },
  {
   "cell_type": "code",
   "execution_count": 92,
   "id": "aaafa78d",
   "metadata": {},
   "outputs": [
    {
     "data": {
      "text/plain": [
       "[10, 30, 56, 78, 93]"
      ]
     },
     "execution_count": 92,
     "metadata": {},
     "output_type": "execute_result"
    }
   ],
   "source": [
    "marks "
   ]
  },
  {
   "cell_type": "code",
   "execution_count": 93,
   "id": "325087f3",
   "metadata": {},
   "outputs": [],
   "source": [
    "# if we want to add something more in list.\n",
    "\n",
    "marks = marks+[30]"
   ]
  },
  {
   "cell_type": "code",
   "execution_count": 94,
   "id": "0a4cec5d",
   "metadata": {},
   "outputs": [
    {
     "data": {
      "text/plain": [
       "[10, 30, 56, 78, 93, 30]"
      ]
     },
     "execution_count": 94,
     "metadata": {},
     "output_type": "execute_result"
    }
   ],
   "source": [
    "marks"
   ]
  },
  {
   "cell_type": "code",
   "execution_count": 95,
   "id": "a83f500d",
   "metadata": {},
   "outputs": [
    {
     "data": {
      "text/plain": [
       "[10, 30, 56, 78, 93, 30, 10, 30, 56, 78, 93, 30]"
      ]
     },
     "execution_count": 95,
     "metadata": {},
     "output_type": "execute_result"
    }
   ],
   "source": [
    "# to make the list double or multiple times\n",
    "\n",
    "marks * 2"
   ]
  },
  {
   "cell_type": "code",
   "execution_count": 96,
   "id": "676f11cb",
   "metadata": {},
   "outputs": [
    {
     "data": {
      "text/plain": [
       "[10, 30, 56, 78, 93, 30, 10, 30, 56, 78, 93, 30, 10, 30, 56, 78, 93, 30]"
      ]
     },
     "execution_count": 96,
     "metadata": {},
     "output_type": "execute_result"
    }
   ],
   "source": [
    "marks *3"
   ]
  },
  {
   "cell_type": "code",
   "execution_count": 97,
   "id": "d43970a9",
   "metadata": {},
   "outputs": [
    {
     "name": "stdout",
     "output_type": "stream",
     "text": [
      "==========================================================================================\n",
      "                                                   yashika         \n",
      "==========================================================================================\n"
     ]
    }
   ],
   "source": [
    "# just to desgin\n",
    "\n",
    "print('=' * 90)\n",
    "print('                                                   yashika         ')\n",
    "print('=' * 90)"
   ]
  },
  {
   "cell_type": "code",
   "execution_count": 98,
   "id": "26b05d8a",
   "metadata": {},
   "outputs": [
    {
     "data": {
      "text/plain": [
       "3"
      ]
     },
     "execution_count": 98,
     "metadata": {},
     "output_type": "execute_result"
    }
   ],
   "source": [
    "# to count repeated element in a list\n",
    "\n",
    "total = [12,45,12,56,78,12]\n",
    "total.count(12)"
   ]
  },
  {
   "cell_type": "code",
   "execution_count": 99,
   "id": "7a2d109e",
   "metadata": {},
   "outputs": [
    {
     "data": {
      "text/plain": [
       "1"
      ]
     },
     "execution_count": 99,
     "metadata": {},
     "output_type": "execute_result"
    }
   ],
   "source": [
    "# to find index of particle element\n",
    "total.index(45)"
   ]
  },
  {
   "cell_type": "code",
   "execution_count": 100,
   "id": "f925d6ca",
   "metadata": {},
   "outputs": [
    {
     "data": {
      "text/plain": [
       "0"
      ]
     },
     "execution_count": 100,
     "metadata": {},
     "output_type": "execute_result"
    }
   ],
   "source": [
    "# to find index of interated element , we just have to find one by one , by chnging previos iterated by some other value/name.\n",
    "# by deafault if gives starting index at which iterated value is mentioned.\n",
    "\n",
    "\n",
    "total.index(12)"
   ]
  },
  {
   "cell_type": "code",
   "execution_count": 1,
   "id": "75929806",
   "metadata": {
    "scrolled": true
   },
   "outputs": [
    {
     "ename": "NameError",
     "evalue": "name 'employee' is not defined",
     "output_type": "error",
     "traceback": [
      "\u001b[1;31m---------------------------------------------------------------------------\u001b[0m",
      "\u001b[1;31mNameError\u001b[0m                                 Traceback (most recent call last)",
      "Input \u001b[1;32mIn [1]\u001b[0m, in \u001b[0;36m<cell line: 4>\u001b[1;34m()\u001b[0m\n\u001b[0;32m      1\u001b[0m \u001b[38;5;66;03m# to extend list by adding elements to this at the end ,\u001b[39;00m\n\u001b[0;32m      2\u001b[0m \u001b[38;5;66;03m# diff . b/w append and extend is that we dont write data in  square brackets in append \u001b[39;00m\n\u001b[1;32m----> 4\u001b[0m \u001b[43memployee\u001b[49m\u001b[38;5;241m.\u001b[39mextend([\u001b[38;5;124m'\u001b[39m\u001b[38;5;124mbob\u001b[39m\u001b[38;5;124m'\u001b[39m,\u001b[38;5;124m'\u001b[39m\u001b[38;5;124mjacf\u001b[39m\u001b[38;5;124m'\u001b[39m])\n\u001b[0;32m      5\u001b[0m \u001b[38;5;28mprint\u001b[39m(employee)\n",
      "\u001b[1;31mNameError\u001b[0m: name 'employee' is not defined"
     ]
    }
   ],
   "source": [
    "# to extend list by adding elements to this at the end ,\n",
    "# diff . b/w append and extend is that we dont write data in  square brackets in append \n",
    "\n",
    "employee.extend(['bob','jacf'])\n",
    "print(employee)"
   ]
  },
  {
   "cell_type": "code",
   "execution_count": 104,
   "id": "287e9200",
   "metadata": {},
   "outputs": [
    {
     "data": {
      "text/plain": [
       "'bob'"
      ]
     },
     "execution_count": 104,
     "metadata": {},
     "output_type": "execute_result"
    }
   ],
   "source": [
    "# to delete last element of list by default , we use pop , and it will show the deleted element in output.\n",
    "\n",
    "pop_last = employee.pop()\n",
    "pop_last"
   ]
  },
  {
   "cell_type": "code",
   "execution_count": 105,
   "id": "ef1bf5a9",
   "metadata": {},
   "outputs": [
    {
     "data": {
      "text/plain": [
       "'radha'"
      ]
     },
     "execution_count": 105,
     "metadata": {},
     "output_type": "execute_result"
    }
   ],
   "source": [
    "# to delete any element of list , we delete by index .\n",
    "\n",
    "pop_last= employee.pop(0)\n",
    "pop_last"
   ]
  },
  {
   "cell_type": "code",
   "execution_count": 106,
   "id": "8b03bfd4",
   "metadata": {},
   "outputs": [
    {
     "data": {
      "text/plain": [
       "['rani', 'jack', 'harsh', 'bob', 'jacf']"
      ]
     },
     "execution_count": 106,
     "metadata": {},
     "output_type": "execute_result"
    }
   ],
   "source": [
    "# to verify either deleted or not\n",
    "\n",
    "employee"
   ]
  },
  {
   "cell_type": "code",
   "execution_count": 107,
   "id": "09c7c3a3",
   "metadata": {},
   "outputs": [
    {
     "data": {
      "text/plain": [
       "[10, 30, 56, 78, 93, 30]"
      ]
     },
     "execution_count": 107,
     "metadata": {},
     "output_type": "execute_result"
    }
   ],
   "source": [
    "# if we directly want to remove without using index  ,then\n",
    "\n",
    "marks"
   ]
  },
  {
   "cell_type": "code",
   "execution_count": 108,
   "id": "6d6a1aaa",
   "metadata": {},
   "outputs": [],
   "source": [
    "marks.remove(56)"
   ]
  },
  {
   "cell_type": "code",
   "execution_count": 109,
   "id": "e210d419",
   "metadata": {},
   "outputs": [
    {
     "data": {
      "text/plain": [
       "[10, 30, 78, 93, 30]"
      ]
     },
     "execution_count": 109,
     "metadata": {},
     "output_type": "execute_result"
    }
   ],
   "source": [
    "marks"
   ]
  },
  {
   "cell_type": "code",
   "execution_count": 112,
   "id": "41845a6d",
   "metadata": {},
   "outputs": [
    {
     "name": "stdout",
     "output_type": "stream",
     "text": [
      "[30, 93, 78, 30, 10]\n"
     ]
    }
   ],
   "source": [
    "marks.reverse()\n",
    "print(marks)"
   ]
  },
  {
   "cell_type": "code",
   "execution_count": 115,
   "id": "d0b653bd",
   "metadata": {},
   "outputs": [
    {
     "name": "stdout",
     "output_type": "stream",
     "text": [
      "[10, 30, 30, 78, 93]\n"
     ]
    }
   ],
   "source": [
    "marks.sort()\n",
    "print(marks)"
   ]
  },
  {
   "cell_type": "code",
   "execution_count": null,
   "id": "f4ebef82",
   "metadata": {},
   "outputs": [],
   "source": []
  }
 ],
 "metadata": {
  "kernelspec": {
   "display_name": "Python 3 (ipykernel)",
   "language": "python",
   "name": "python3"
  },
  "language_info": {
   "codemirror_mode": {
    "name": "ipython",
    "version": 3
   },
   "file_extension": ".py",
   "mimetype": "text/x-python",
   "name": "python",
   "nbconvert_exporter": "python",
   "pygments_lexer": "ipython3",
   "version": "3.9.12"
  }
 },
 "nbformat": 4,
 "nbformat_minor": 5
}
