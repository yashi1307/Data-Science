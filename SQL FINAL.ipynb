{
 "cells": [
  {
   "cell_type": "code",
   "execution_count": null,
   "id": "79e61fc9",
   "metadata": {},
   "outputs": [],
   "source": [
    "## SQL (STRUCTURED QUERY LANGUAGE)\n",
    "\n",
    "import sqlite3\n",
    "\n",
    "#connecting with the database (if there is no database exists, it will create one)\n",
    "\n",
    "#anyname=sqlite3.connect(\"database_name.db(extension)\")\n",
    "\n",
    "data = sqlite3.connect(\"student_detail.db\")"
   ]
  },
  {
   "cell_type": "code",
   "execution_count": null,
   "id": "b0fed697",
   "metadata": {},
   "outputs": [],
   "source": [
    "# To Declare Cursor: if we are writing in a databse then we must declare or create cursor to specify the position where we wanna write.\n",
    "\n",
    "#anyname= filename.cursor\n",
    "\n",
    "cursor = data.cursor()"
   ]
  },
  {
   "cell_type": "code",
   "execution_count": 8,
   "id": "e8cd559e",
   "metadata": {},
   "outputs": [
    {
     "data": {
      "text/plain": [
       "<sqlite3.Cursor at 0x17e00c05260>"
      ]
     },
     "execution_count": 8,
     "metadata": {},
     "output_type": "execute_result"
    }
   ],
   "source": [
    "# To Create Table:\n",
    "\n",
    "cursor.execute(\"CREATE TABLE student_infor(roll_no INT,email_id TEXT ,course_name TEXT,fee_paid INT)\")\n",
    "\n",
    "# here INT & TEXT are particular datatypes  ,means vkues must be of ame datatype mentioned and PRIMARY KEY mean unique value.\n"
   ]
  },
  {
   "cell_type": "code",
   "execution_count": 9,
   "id": "83b056cd",
   "metadata": {},
   "outputs": [
    {
     "data": {
      "text/plain": [
       "<sqlite3.Cursor at 0x17e00c05260>"
      ]
     },
     "execution_count": 9,
     "metadata": {},
     "output_type": "execute_result"
    }
   ],
   "source": [
    "# To insert records into the table using INSERT INTO & VALUES: order should be samein values.\n",
    "\n",
    "cursor.execute(\"INSERT INTO student_infor(roll_no,email_id ,course_name,fee_paid) VALUES (10,'stu1@gmail.com', 'ds', 45000)\")\n",
    "\n"
   ]
  },
  {
   "cell_type": "code",
   "execution_count": 11,
   "id": "4a4eb52d",
   "metadata": {},
   "outputs": [],
   "source": [
    "# to save the record permanently use .commit , it don't use then will not see records next time\n",
    "#databsename.commit\n",
    "\n",
    "data.commit()"
   ]
  },
  {
   "cell_type": "code",
   "execution_count": 12,
   "id": "6f5287be",
   "metadata": {},
   "outputs": [
    {
     "name": "stdout",
     "output_type": "stream",
     "text": [
      "1 Record(s) inserted\n"
     ]
    }
   ],
   "source": [
    "# count of records inserted:\n",
    "\n",
    "print(cursor.rowcount,'Record(s) inserted')"
   ]
  },
  {
   "cell_type": "code",
   "execution_count": 13,
   "id": "1d000365",
   "metadata": {},
   "outputs": [
    {
     "name": "stdout",
     "output_type": "stream",
     "text": [
      "(10, 'stu1@gmail.com', 'ds', 45000)\n"
     ]
    }
   ],
   "source": [
    "# SELECT QUERY : to fatch records from the Table using SELECT:\n",
    "# here we used a results(any_name) just bcoz to store details in a different variable. \n",
    "# (*) is ued to select all the data.\n",
    "\n",
    "results = cursor.execute(\"SELECT*FROM student_infor\")\n",
    "for row in results:   # for loop is for all the rows one by one(or on loop)\n",
    "    print(row)"
   ]
  },
  {
   "cell_type": "code",
   "execution_count": 14,
   "id": "2c28233b",
   "metadata": {},
   "outputs": [],
   "source": [
    "# MULTIPLE RECORDS INSERTION: here we don't need to define column name again , just proceed with VALUES separated by comma.\n",
    "\n",
    "cursor.execute(\"INSERT INTO student_infor VALUES(11,'stu2@gmail.com','ds',54000),(12 ,'stu3@gmail.com','dbms',56000)\")\n",
    "data.commit()"
   ]
  },
  {
   "cell_type": "code",
   "execution_count": 15,
   "id": "57f0b970",
   "metadata": {},
   "outputs": [
    {
     "name": "stdout",
     "output_type": "stream",
     "text": [
      "2 Record(s) inserted\n"
     ]
    }
   ],
   "source": [
    "# count of rows inserted:\n",
    "\n",
    "print(cursor.rowcount,'Record(s) inserted')"
   ]
  },
  {
   "cell_type": "code",
   "execution_count": 16,
   "id": "6ee36446",
   "metadata": {},
   "outputs": [
    {
     "name": "stdout",
     "output_type": "stream",
     "text": [
      "(10, 'stu1@gmail.com', 'ds', 45000)\n",
      "(11, 'stu2@gmail.com', 'ds', 54000)\n",
      "(12, 'stu3@gmail.com', 'dbms', 56000)\n"
     ]
    }
   ],
   "source": [
    "results=cursor.execute(\"SELECT * FROM student_infor\")\n",
    "for row in results:\n",
    "    print(row)"
   ]
  },
  {
   "cell_type": "code",
   "execution_count": 17,
   "id": "6344ec61",
   "metadata": {},
   "outputs": [
    {
     "name": "stdout",
     "output_type": "stream",
     "text": [
      "8 Record(s) inserted\n"
     ]
    }
   ],
   "source": [
    "# HOW TO LOAD DATA FROM FILE INTO TABLE: we here load /insert data from csv file to table\n",
    "\n",
    "# NOTE : keep csv file in the same folder where your jupyter notebook is present or provide folder link , you can't directly\n",
    "#open file directly from GitHub , if in diff. folder the copy the pAth of filemand paste it here.\n",
    "\n",
    "# we have to use 'with open' to open any file with extension , and 'r' is for read only , we can't write anything.\n",
    "\n",
    "#as file means we don't need to wtite file name everytime just write file further.\n",
    "\n",
    "with open('studentt.csv','r') as file:   \n",
    "    no_records=0\n",
    "    for row in file:\n",
    "        cursor.execute(\"INSERT INTO student_infor VALUES (?,?,?,?)\", row.split(\",\"))\n",
    "        data.commit()\n",
    "        no_records+=1\n",
    "    \n",
    "print(no_records,'Record(s) inserted')"
   ]
  },
  {
   "cell_type": "code",
   "execution_count": 18,
   "id": "e63f0a60",
   "metadata": {},
   "outputs": [
    {
     "name": "stdout",
     "output_type": "stream",
     "text": [
      "(10, 'stu1@gmail.com', 'ds', 45000)\n",
      "(11, 'stu2@gmail.com', 'ds', 54000)\n",
      "(12, 'stu3@gmail.com', 'dbms', 56000)\n",
      "(14, 'stu4@gmail.com', 'digital m', 47000)\n",
      "(15, 'stu5@gmail.com', 'digital m', 56000)\n",
      "(16, 'stu6@gmail.com', 'dbms', 120000)\n",
      "(17, 'stu7@gmail.com', 'ds', 45000)\n",
      "(18, 'stu8@gmail.com', 'dbms', 47500)\n",
      "(19, 'stu9@gmail.com', 'digital m', 56100)\n",
      "(20, 'stu10@gmail.com', 'ds', 25500)\n",
      "(21, 'stu11@gmail.com', 'dbms', 74000)\n"
     ]
    }
   ],
   "source": [
    "results=cursor.execute(\"SELECT * FROM student_infor\")\n",
    "for row in results:\n",
    "    print(row)"
   ]
  },
  {
   "cell_type": "code",
   "execution_count": 19,
   "id": "1780e490",
   "metadata": {},
   "outputs": [
    {
     "name": "stdout",
     "output_type": "stream",
     "text": [
      "(10, 'stu1@gmail.com', 'ds', 45000)\n",
      "(11, 'stu2@gmail.com', 'ds', 54000)\n",
      "(17, 'stu7@gmail.com', 'ds', 45000)\n",
      "(20, 'stu10@gmail.com', 'ds', 25500)\n"
     ]
    }
   ],
   "source": [
    "# WHERE CLAUSE : Fatch/Select records based on condition and (*) is for all the data with WHERE.\n",
    "\n",
    "# here again , we will define a new varaible to fatch some records from table/fatabse so just not to confuse.\n",
    "\n",
    "sqll = \"SELECT * FROM student_infor WHERE course_name='ds'\"\n",
    "result=cursor.execute(sqll)   # fatch result in sql\n",
    "for row in results:\n",
    "    print(row)\n",
    "    \n",
    "    #similarly we can fatch other records using WHERE CLAUSE."
   ]
  },
  {
   "cell_type": "code",
   "execution_count": 20,
   "id": "701536a4",
   "metadata": {},
   "outputs": [],
   "source": [
    "#DELETE Records : deleteunwanted records using DELETE FROM\n",
    "\n",
    "sqll= \"DELETE FROM student_infor WHERE roll_no=11\"\n",
    "cursor.execute(sqll)\n",
    "data.commit()    # we must commit as we are changing the data.\n",
    "\n"
   ]
  },
  {
   "cell_type": "code",
   "execution_count": 21,
   "id": "f7d998b8",
   "metadata": {},
   "outputs": [
    {
     "name": "stdout",
     "output_type": "stream",
     "text": [
      "(10, 'stu1@gmail.com', 'ds', 45000)\n",
      "(12, 'stu3@gmail.com', 'dbms', 56000)\n",
      "(14, 'stu4@gmail.com', 'digital m', 47000)\n",
      "(15, 'stu5@gmail.com', 'digital m', 56000)\n",
      "(16, 'stu6@gmail.com', 'dbms', 120000)\n",
      "(17, 'stu7@gmail.com', 'ds', 45000)\n",
      "(18, 'stu8@gmail.com', 'dbms', 47500)\n",
      "(19, 'stu9@gmail.com', 'digital m', 56100)\n",
      "(20, 'stu10@gmail.com', 'ds', 25500)\n",
      "(21, 'stu11@gmail.com', 'dbms', 74000)\n"
     ]
    }
   ],
   "source": [
    "# To Verify:\n",
    "\n",
    "sqll=\"SELECT * FROM student_infor\"\n",
    "\n",
    "result=cursor.execute(sqll)\n",
    "for row in result:\n",
    "    print(row)\n",
    "    \n",
    "    #here roll_no 11 all detail/rows is deleted."
   ]
  },
  {
   "cell_type": "code",
   "execution_count": 22,
   "id": "d14658cc",
   "metadata": {},
   "outputs": [
    {
     "name": "stdout",
     "output_type": "stream",
     "text": [
      "(20, 'stu10@gmail.com', 'ds', 25500)\n",
      "(10, 'stu1@gmail.com', 'ds', 45000)\n",
      "(17, 'stu7@gmail.com', 'ds', 45000)\n",
      "(14, 'stu4@gmail.com', 'digital m', 47000)\n",
      "(18, 'stu8@gmail.com', 'dbms', 47500)\n",
      "(12, 'stu3@gmail.com', 'dbms', 56000)\n",
      "(15, 'stu5@gmail.com', 'digital m', 56000)\n",
      "(19, 'stu9@gmail.com', 'digital m', 56100)\n",
      "(21, 'stu11@gmail.com', 'dbms', 74000)\n",
      "(16, 'stu6@gmail.com', 'dbms', 120000)\n"
     ]
    }
   ],
   "source": [
    "# ORDER BY : to fatch the details in order or change the data in order using ORDER BY:\n",
    "\n",
    "result=cursor.execute(\"SELECT * FROM student_infor ORDER BY fee_paid\")\n",
    "for row in result:\n",
    "    print(row)\n",
    "    \n",
    "    # by deafault it order in ascending order."
   ]
  },
  {
   "cell_type": "code",
   "execution_count": 23,
   "id": "925cc367",
   "metadata": {},
   "outputs": [
    {
     "name": "stdout",
     "output_type": "stream",
     "text": [
      "(16, 'stu6@gmail.com', 'dbms', 120000)\n",
      "(21, 'stu11@gmail.com', 'dbms', 74000)\n",
      "(19, 'stu9@gmail.com', 'digital m', 56100)\n",
      "(12, 'stu3@gmail.com', 'dbms', 56000)\n",
      "(15, 'stu5@gmail.com', 'digital m', 56000)\n",
      "(18, 'stu8@gmail.com', 'dbms', 47500)\n",
      "(14, 'stu4@gmail.com', 'digital m', 47000)\n",
      "(10, 'stu1@gmail.com', 'ds', 45000)\n",
      "(17, 'stu7@gmail.com', 'ds', 45000)\n",
      "(20, 'stu10@gmail.com', 'ds', 25500)\n"
     ]
    }
   ],
   "source": [
    "# ORDER BY in descending: use 'desc'\n",
    "\n",
    "result = cursor.execute(\"SELECT * FROM student_infor ORDER BY fee_paid desc\")\n",
    "for row in result:\n",
    "    print(row)"
   ]
  },
  {
   "cell_type": "code",
   "execution_count": 24,
   "id": "637d91e3",
   "metadata": {},
   "outputs": [
    {
     "name": "stdout",
     "output_type": "stream",
     "text": [
      "(12, 'stu3@gmail.com', 'dbms', 56000)\n",
      "(16, 'stu6@gmail.com', 'dbms', 120000)\n",
      "(18, 'stu8@gmail.com', 'dbms', 47500)\n",
      "(21, 'stu11@gmail.com', 'dbms', 74000)\n",
      "(14, 'stu4@gmail.com', 'digital m', 47000)\n",
      "(15, 'stu5@gmail.com', 'digital m', 56000)\n",
      "(19, 'stu9@gmail.com', 'digital m', 56100)\n",
      "(10, 'stu1@gmail.com', 'ds', 45000)\n",
      "(17, 'stu7@gmail.com', 'ds', 45000)\n",
      "(20, 'stu10@gmail.com', 'ds', 25500)\n"
     ]
    }
   ],
   "source": [
    "result=cursor.execute(\"SELECT * FROM student_infor ORDER BY course_name\")\n",
    "for row in result:\n",
    "    print(row)\n",
    "    \n",
    "    # by deafault it order in ascending order. also for alphabetical"
   ]
  },
  {
   "cell_type": "code",
   "execution_count": 25,
   "id": "e0a0d9d1",
   "metadata": {},
   "outputs": [
    {
     "name": "stdout",
     "output_type": "stream",
     "text": [
      "(10, 'stu1@gmail.com', 'ds', 45000)\n",
      "(17, 'stu7@gmail.com', 'ds', 45000)\n",
      "(20, 'stu10@gmail.com', 'ds', 25500)\n",
      "(14, 'stu4@gmail.com', 'digital m', 47000)\n",
      "(15, 'stu5@gmail.com', 'digital m', 56000)\n",
      "(19, 'stu9@gmail.com', 'digital m', 56100)\n",
      "(12, 'stu3@gmail.com', 'dbms', 56000)\n",
      "(16, 'stu6@gmail.com', 'dbms', 120000)\n",
      "(18, 'stu8@gmail.com', 'dbms', 47500)\n",
      "(21, 'stu11@gmail.com', 'dbms', 74000)\n"
     ]
    }
   ],
   "source": [
    "result=cursor.execute(\"SELECT * FROM student_infor ORDER BY course_name desc\")\n",
    "for row in result:\n",
    "    print(row)\n",
    "    \n",
    "    # by deafault it order in ascending order. also for alphabetical"
   ]
  },
  {
   "cell_type": "code",
   "execution_count": 26,
   "id": "e1be7c48",
   "metadata": {},
   "outputs": [
    {
     "data": {
      "text/plain": [
       "<sqlite3.Cursor at 0x17e00c05260>"
      ]
     },
     "execution_count": 26,
     "metadata": {},
     "output_type": "execute_result"
    }
   ],
   "source": [
    "#UPDATE TABLE : update the column using UPDATE , SET(which column we want to update) & WHERE (only for particular condition)\n",
    "\n",
    "sqll = \"UPDATE student_infor SET course_name ='ds' WHERE roll_no=14 \"\n",
    "cursor.execute(sqll)"
   ]
  },
  {
   "cell_type": "code",
   "execution_count": 27,
   "id": "c56e0d91",
   "metadata": {},
   "outputs": [
    {
     "name": "stdout",
     "output_type": "stream",
     "text": [
      "(14, 'stu4@gmail.com', 'ds', 47000)\n"
     ]
    }
   ],
   "source": [
    "# check if course name updated or not\n",
    "\n",
    "sqll = \"SELECT * FROM student_infor WHERE roll_no=14\"\n",
    "result = cursor.execute(sqll)\n",
    "for row in result:\n",
    "        print(row)\n",
    "        \n",
    "        # there is no need to commit in UPDATE as we are just updating the existing record.\n",
    "        # similarly we can update using other condition"
   ]
  },
  {
   "cell_type": "markdown",
   "id": "35675f13",
   "metadata": {},
   "source": [
    "# MULTIPLE CONDITIONS:\n",
    "\n",
    "sqll = \"SELECT email_id , fee_paid FROM student_infor WHERE course_name='ds' AND fee_paid> 20000\"\n",
    "result = cursor.execute(sqll)\n",
    "for row in result:\n",
    "    print(row)"
   ]
  },
  {
   "cell_type": "code",
   "execution_count": 30,
   "id": "ef0b8632",
   "metadata": {},
   "outputs": [
    {
     "data": {
      "text/plain": [
       "<sqlite3.Cursor at 0x17e00c05260>"
      ]
     },
     "execution_count": 30,
     "metadata": {},
     "output_type": "execute_result"
    }
   ],
   "source": [
    "sqll = \"UPDATE student_infor SET fee_paid = 100000 WHERE fee_paid IN (45000,54000)\"\n",
    "cursor.execute(sqll)"
   ]
  },
  {
   "cell_type": "code",
   "execution_count": 34,
   "id": "77c9e12b",
   "metadata": {},
   "outputs": [],
   "source": [
    "# Verify if it is updated or not , we wll just verify fee_paid column\n",
    "\n",
    "result=cursor.execute(\"SELECT fee_paid FROM student_infor WHERE fee_paid IN(45000,54000)\")\n",
    "for row in result:\n",
    "    print(row)"
   ]
  },
  {
   "cell_type": "code",
   "execution_count": 35,
   "id": "aaabb151",
   "metadata": {},
   "outputs": [
    {
     "data": {
      "text/plain": [
       "<sqlite3.Cursor at 0x17e00c05260>"
      ]
     },
     "execution_count": 35,
     "metadata": {},
     "output_type": "execute_result"
    }
   ],
   "source": [
    "# Update records in between parTicular range using BETWEEN:\n",
    "\n",
    "sqll = \"UPDATE student_infor SET course_name='Python' WHERE roll_no BETWEEN 17 AND 21\"   #here we are just updating\n",
    "cursor.execute(sqll)\n",
    "\n"
   ]
  },
  {
   "cell_type": "code",
   "execution_count": 38,
   "id": "95fdc0f1",
   "metadata": {},
   "outputs": [
    {
     "name": "stdout",
     "output_type": "stream",
     "text": [
      "(17, 'Python')\n",
      "(18, 'Python')\n",
      "(19, 'Python')\n",
      "(20, 'Python')\n",
      "(21, 'Python')\n"
     ]
    }
   ],
   "source": [
    "# verify it it is updated:\n",
    "\n",
    "sqll = cursor.execute(\"SELECT roll_no , course_name FROM student_infor WHERE course_name='Python'\")\n",
    "for row in result:\n",
    "    print(row)"
   ]
  },
  {
   "cell_type": "markdown",
   "id": "91c9b0e5",
   "metadata": {},
   "source": [
    "## MIN & MAX \n",
    "\n"
   ]
  },
  {
   "cell_type": "code",
   "execution_count": 40,
   "id": "1560e9c0",
   "metadata": {},
   "outputs": [
    {
     "name": "stdout",
     "output_type": "stream",
     "text": [
      "Minimum fees= (25500,)\n",
      "Maximum fees= (120000,)\n"
     ]
    }
   ],
   "source": [
    "result=cursor.execute(\"SELECT MIN(fee_paid) FROM student_infor\")\n",
    "print('Minimum fees=',result.fetchone())    #fetchone means it will only give least/max fee only one.\n",
    "\n",
    "result=cursor.execute(\"SELECT Max(fee_paid) FROM student_infor\")\n",
    "print('Maximum fees=',result.fetchone())\n"
   ]
  },
  {
   "cell_type": "markdown",
   "id": "1ad678dc",
   "metadata": {},
   "source": [
    "## SUBQUERY:"
   ]
  },
  {
   "cell_type": "code",
   "execution_count": null,
   "id": "4d911755",
   "metadata": {},
   "outputs": [],
   "source": [
    "\n"
   ]
  }
 ],
 "metadata": {
  "kernelspec": {
   "display_name": "Python 3 (ipykernel)",
   "language": "python",
   "name": "python3"
  },
  "language_info": {
   "codemirror_mode": {
    "name": "ipython",
    "version": 3
   },
   "file_extension": ".py",
   "mimetype": "text/x-python",
   "name": "python",
   "nbconvert_exporter": "python",
   "pygments_lexer": "ipython3",
   "version": "3.9.12"
  }
 },
 "nbformat": 4,
 "nbformat_minor": 5
}
