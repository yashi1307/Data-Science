{
 "cells": [
  {
   "cell_type": "code",
   "execution_count": 8,
   "id": "d3ccdbd0",
   "metadata": {},
   "outputs": [
    {
     "data": {
      "text/plain": [
       "[]"
      ]
     },
     "execution_count": 8,
     "metadata": {},
     "output_type": "execute_result"
    }
   ],
   "source": [
    "#list\n",
    "\n",
    "a=[]\n",
    "a"
   ]
  },
  {
   "cell_type": "code",
   "execution_count": 9,
   "id": "cde3ef05",
   "metadata": {},
   "outputs": [
    {
     "data": {
      "text/plain": [
       "[]"
      ]
     },
     "execution_count": 9,
     "metadata": {},
     "output_type": "execute_result"
    }
   ],
   "source": [
    "# we can covert parenthisis into list , also parenthesis is not editable(mutable) as list.\n",
    "\n",
    "a=list()\n",
    "a"
   ]
  },
  {
   "cell_type": "code",
   "execution_count": 10,
   "id": "48b1fa9b",
   "metadata": {},
   "outputs": [
    {
     "data": {
      "text/plain": [
       "['a', 6, 3.6]"
      ]
     },
     "execution_count": 10,
     "metadata": {},
     "output_type": "execute_result"
    }
   ],
   "source": [
    "# list can have any data type i.e int , float , string\n",
    "\n",
    "a=['a',6,3.6]\n",
    "a"
   ]
  },
  {
   "cell_type": "code",
   "execution_count": 12,
   "id": "d27f79b9",
   "metadata": {},
   "outputs": [
    {
     "data": {
      "text/plain": [
       "['a', 6, 3.6]"
      ]
     },
     "execution_count": 12,
     "metadata": {},
     "output_type": "execute_result"
    }
   ],
   "source": [
    "# we can also re-call any list anytime just by name of list and if in paremthesis then re-cal with list(name)\n",
    "\n",
    "b= list(a)\n",
    "b"
   ]
  },
  {
   "cell_type": "code",
   "execution_count": 13,
   "id": "768c466c",
   "metadata": {},
   "outputs": [
    {
     "data": {
      "text/plain": [
       "['a', 6, 3.6]"
      ]
     },
     "execution_count": 13,
     "metadata": {},
     "output_type": "execute_result"
    }
   ],
   "source": [
    "# also just by name , if it is already a list\n",
    "\n",
    "b=a\n",
    "b"
   ]
  },
  {
   "cell_type": "code",
   "execution_count": 26,
   "id": "365febef",
   "metadata": {},
   "outputs": [
    {
     "data": {
      "text/plain": [
       "[]"
      ]
     },
     "execution_count": 26,
     "metadata": {},
     "output_type": "execute_result"
    }
   ],
   "source": [
    "A=[]\n",
    "A"
   ]
  },
  {
   "cell_type": "code",
   "execution_count": 27,
   "id": "06bcd49a",
   "metadata": {},
   "outputs": [
    {
     "data": {
      "text/plain": [
       "['b', 'c']"
      ]
     },
     "execution_count": 27,
     "metadata": {},
     "output_type": "execute_result"
    }
   ],
   "source": [
    "# append : add element/ data to the end\n",
    "\n",
    "A.append('b')\n",
    "\n",
    "# here added c to the end\n",
    "A.append('c')\n",
    "A"
   ]
  },
  {
   "cell_type": "code",
   "execution_count": 28,
   "id": "81cfdb10",
   "metadata": {},
   "outputs": [
    {
     "data": {
      "text/plain": [
       "['a', 'b', 'c']"
      ]
     },
     "execution_count": 28,
     "metadata": {},
     "output_type": "execute_result"
    }
   ],
   "source": [
    "# insert : to insert any data/element in between anywhere\n",
    "\n",
    "# here to insert 'a' at 0 position(index) , also index starts from 0 in python\n",
    "\n",
    "A.insert(0,'a')\n",
    "A\n",
    "\n"
   ]
  },
  {
   "cell_type": "code",
   "execution_count": 29,
   "id": "7f2828f2",
   "metadata": {},
   "outputs": [
    {
     "data": {
      "text/plain": [
       "3"
      ]
     },
     "execution_count": 29,
     "metadata": {},
     "output_type": "execute_result"
    }
   ],
   "source": [
    "# len : used to know the length of list or no. of data/element in a list\n",
    "\n",
    "len(A)"
   ]
  },
  {
   "cell_type": "code",
   "execution_count": 30,
   "id": "3eca125d",
   "metadata": {},
   "outputs": [
    {
     "data": {
      "text/plain": [
       "'b'"
      ]
     },
     "execution_count": 30,
     "metadata": {},
     "output_type": "execute_result"
    }
   ],
   "source": [
    "# Index : if want to find data/element using its index then:\n",
    "\n",
    "A[1]"
   ]
  },
  {
   "cell_type": "code",
   "execution_count": 31,
   "id": "c3f23caa",
   "metadata": {},
   "outputs": [
    {
     "data": {
      "text/plain": [
       "['a', 'b', 'c']"
      ]
     },
     "execution_count": 31,
     "metadata": {},
     "output_type": "execute_result"
    }
   ],
   "source": [
    "# if we want to find all data/elements from  an particular indexx then\n",
    "\n",
    "# here it gives all elements start from index 0\n",
    "\n",
    "A[0:]"
   ]
  },
  {
   "cell_type": "code",
   "execution_count": 32,
   "id": "0fef4303",
   "metadata": {},
   "outputs": [
    {
     "data": {
      "text/plain": [
       "['a', 'b']"
      ]
     },
     "execution_count": 32,
     "metadata": {},
     "output_type": "execute_result"
    }
   ],
   "source": [
    "# if we want to find data in between particular index then;\n",
    "\n",
    "# it gives data b/w index 0 and 2 , except last index. (last index is always excluded)\n",
    "\n",
    "A[0:2]"
   ]
  },
  {
   "cell_type": "code",
   "execution_count": 33,
   "id": "5e5e8c30",
   "metadata": {},
   "outputs": [
    {
     "data": {
      "text/plain": [
       "['a', 'b']"
      ]
     },
     "execution_count": 33,
     "metadata": {},
     "output_type": "execute_result"
    }
   ],
   "source": [
    "# if we want to find all data before any particular indes then:\n",
    "\n",
    "# last index is also excluded here\n",
    "\n",
    "A[ :2]"
   ]
  },
  {
   "cell_type": "code",
   "execution_count": 34,
   "id": "2a95faeb",
   "metadata": {},
   "outputs": [
    {
     "data": {
      "text/plain": [
       "['a', 'b', 'c', 'd']"
      ]
     },
     "execution_count": 34,
     "metadata": {},
     "output_type": "execute_result"
    }
   ],
   "source": [
    "# if we want to add some item/data in list using (+) concatenate , just like we did in strings.\n",
    "\n",
    "A+['d']"
   ]
  },
  {
   "cell_type": "code",
   "execution_count": 35,
   "id": "1aab1571",
   "metadata": {},
   "outputs": [
    {
     "data": {
      "text/plain": [
       "['a', 'b', 'c']"
      ]
     },
     "execution_count": 35,
     "metadata": {},
     "output_type": "execute_result"
    }
   ],
   "source": [
    "# use of concatenate doesn't chnge our original data , if we recall it will be previos one not concatenated.\n",
    "# here 'd' is not added.\n",
    "A"
   ]
  },
  {
   "cell_type": "code",
   "execution_count": 36,
   "id": "030ebd8f",
   "metadata": {},
   "outputs": [
    {
     "data": {
      "text/plain": [
       "['a', 'b', 'c', 'd']"
      ]
     },
     "execution_count": 36,
     "metadata": {},
     "output_type": "execute_result"
    }
   ],
   "source": [
    "# if we want to add item (concatenate) permanently then \n",
    "# name of list = original list+ [new data] , imp: both the data must be stored in same name\n",
    "\n",
    "A =A+ ['d']\n",
    "A"
   ]
  },
  {
   "cell_type": "code",
   "execution_count": 37,
   "id": "77c4423f",
   "metadata": {},
   "outputs": [
    {
     "data": {
      "text/plain": [
       "['a', 'b', 'c', 'd']"
      ]
     },
     "execution_count": 37,
     "metadata": {},
     "output_type": "execute_result"
    }
   ],
   "source": [
    "# so here stored permanently as we re-called.\n",
    "\n",
    "A"
   ]
  },
  {
   "cell_type": "code",
   "execution_count": 38,
   "id": "055176a1",
   "metadata": {},
   "outputs": [
    {
     "data": {
      "text/plain": [
       "['a', 'b', 'c', 'd', 'a', 'b', 'c', 'd']"
      ]
     },
     "execution_count": 38,
     "metadata": {},
     "output_type": "execute_result"
    }
   ],
   "source": [
    "# TO DOUBLE OR MYULTIPLE THE LIST USING (*) and again it's not permanent as concatenate\n",
    "\n",
    "A *2"
   ]
  },
  {
   "cell_type": "code",
   "execution_count": null,
   "id": "0f4fe071",
   "metadata": {},
   "outputs": [],
   "source": [
    " # have a look at 6_7 august notebook for some  more methods in list i.e name.pop(remove-by default it remove last element\n",
    "    #but we can define index too which we want to remove) and name.reverse and name.sort (will sort in ascending order) and\n",
    "    # here name is 'list name'\n"
   ]
  },
  {
   "cell_type": "code",
   "execution_count": 40,
   "id": "2fd746b1",
   "metadata": {},
   "outputs": [
    {
     "data": {
      "text/plain": [
       "[[1, 2, 3], [4, 5, 6], [7, 8, 9]]"
      ]
     },
     "execution_count": 40,
     "metadata": {},
     "output_type": "execute_result"
    }
   ],
   "source": [
    "# NESTED LIST : A LIST INSIDE LIST\n",
    "\n",
    "list1 =[1,2,3]\n",
    "list2 =[4,5,6]\n",
    "list3 =[7,8,9]\n",
    "\n",
    "# firsty this is list as in square brackets , then it is assigned to matrix , as in output there is extra braccket of matrix.\n",
    "\n",
    "matrix =[list1 , list2, list3]\n",
    "matrix"
   ]
  },
  {
   "cell_type": "code",
   "execution_count": 41,
   "id": "c89d67d2",
   "metadata": {},
   "outputs": [
    {
     "data": {
      "text/plain": [
       "6"
      ]
     },
     "execution_count": 41,
     "metadata": {},
     "output_type": "execute_result"
    }
   ],
   "source": [
    "# if we want to select index then :\n",
    "\n",
    "matrix[1][2]\n",
    "# here fisrt bracket indicate the index of matrix and second indicates that index of that list.\n",
    "# here also index start fron 0 , and index 0 is  [1,2,3] and index 1 is [4,5,6] upto so on , and then in next brackets again its start\n",
    "# from 0 and so on.\n",
    "\n",
    "# here index 1 is [4,5,6 ] and in this index 2 is 6. as index 0 and 1 is 4,5.\n"
   ]
  },
  {
   "cell_type": "code",
   "execution_count": 42,
   "id": "84403bc8",
   "metadata": {},
   "outputs": [
    {
     "data": {
      "text/plain": [
       "[4, 5, 6]"
      ]
     },
     "execution_count": 42,
     "metadata": {},
     "output_type": "execute_result"
    }
   ],
   "source": [
    "# if we just want to find an list not the element of list then \n",
    "\n",
    "matrix[1]\n",
    "# here we have not asked for element of list , only one bracket."
   ]
  },
  {
   "cell_type": "code",
   "execution_count": 43,
   "id": "c8bb9e6d",
   "metadata": {},
   "outputs": [
    {
     "data": {
      "text/plain": [
       "[25, 30]"
      ]
     },
     "execution_count": 43,
     "metadata": {},
     "output_type": "execute_result"
    }
   ],
   "source": [
    "x= (25,30)\n",
    "list(x)"
   ]
  },
  {
   "cell_type": "code",
   "execution_count": 44,
   "id": "1b7301f0",
   "metadata": {},
   "outputs": [
    {
     "data": {
      "text/plain": [
       "[25, 30]"
      ]
     },
     "execution_count": 44,
     "metadata": {},
     "output_type": "execute_result"
    }
   ],
   "source": [
    "x= (25,30)\n",
    "b=list(x)\n",
    "b"
   ]
  },
  {
   "cell_type": "code",
   "execution_count": 45,
   "id": "5fcdbb41",
   "metadata": {},
   "outputs": [
    {
     "name": "stdout",
     "output_type": "stream",
     "text": [
      "[(25, 30)]\n"
     ]
    }
   ],
   "source": [
    "print([x])"
   ]
  },
  {
   "cell_type": "code",
   "execution_count": 2,
   "id": "e587278f",
   "metadata": {},
   "outputs": [
    {
     "data": {
      "text/plain": [
       "[1, 2, 3, 4]"
      ]
     },
     "execution_count": 2,
     "metadata": {},
     "output_type": "execute_result"
    }
   ],
   "source": [
    "B = [1,2,3,4]\n",
    "B"
   ]
  },
  {
   "cell_type": "code",
   "execution_count": 3,
   "id": "aab706af",
   "metadata": {},
   "outputs": [
    {
     "data": {
      "text/plain": [
       "4"
      ]
     },
     "execution_count": 3,
     "metadata": {},
     "output_type": "execute_result"
    }
   ],
   "source": [
    "B.pop()"
   ]
  },
  {
   "cell_type": "code",
   "execution_count": 11,
   "id": "bf7e2f18",
   "metadata": {},
   "outputs": [
    {
     "data": {
      "text/plain": [
       "(23, 56, 78)"
      ]
     },
     "execution_count": 11,
     "metadata": {},
     "output_type": "execute_result"
    }
   ],
   "source": [
    "## TUPLE: This is same as list except it is un-mutable(not editable) i.e we can't insert or add data like list and also it can have any datatype.\n",
    "# Represetntation of Tuple : Tuple(data) : as list this is also used to store miltiple data in a single variable.\n",
    "\n",
    "marks = (23,56,78)\n",
    "marks\n",
    "\n"
   ]
  },
  {
   "cell_type": "code",
   "execution_count": 12,
   "id": "15b4a614",
   "metadata": {},
   "outputs": [
    {
     "data": {
      "text/plain": [
       "tuple"
      ]
     },
     "execution_count": 12,
     "metadata": {},
     "output_type": "execute_result"
    }
   ],
   "source": [
    "# to know the type of data \n",
    "\n",
    "type(marks)"
   ]
  },
  {
   "cell_type": "code",
   "execution_count": 14,
   "id": "1edfa050",
   "metadata": {},
   "outputs": [
    {
     "data": {
      "text/plain": [
       "[23, 56, 78]"
      ]
     },
     "execution_count": 14,
     "metadata": {},
     "output_type": "execute_result"
    }
   ],
   "source": [
    "# To convert tuple into list , so that we can edit as it is list.\n",
    "\n",
    "marks_edit = list(marks)\n",
    "marks_edit"
   ]
  },
  {
   "cell_type": "code",
   "execution_count": 17,
   "id": "c477b1d3",
   "metadata": {},
   "outputs": [
    {
     "data": {
      "text/plain": [
       "list"
      ]
     },
     "execution_count": 17,
     "metadata": {},
     "output_type": "execute_result"
    }
   ],
   "source": [
    "type(marks_edit)"
   ]
  },
  {
   "cell_type": "code",
   "execution_count": 15,
   "id": "106f93e2",
   "metadata": {},
   "outputs": [
    {
     "data": {
      "text/plain": [
       "(23, 56, 78)"
      ]
     },
     "execution_count": 15,
     "metadata": {},
     "output_type": "execute_result"
    }
   ],
   "source": [
    "# To convert list into tuple:\n",
    "\n",
    "markss = tuple(marks_edit)\n",
    "markss"
   ]
  },
  {
   "cell_type": "code",
   "execution_count": 16,
   "id": "28959499",
   "metadata": {},
   "outputs": [
    {
     "data": {
      "text/plain": [
       "3"
      ]
     },
     "execution_count": 16,
     "metadata": {},
     "output_type": "execute_result"
    }
   ],
   "source": [
    "# len : to know the length of tuple\n",
    "\n",
    "len(markss)"
   ]
  },
  {
   "cell_type": "code",
   "execution_count": 18,
   "id": "2286dabf",
   "metadata": {},
   "outputs": [
    {
     "data": {
      "text/plain": [
       "('one', 3, 3.3)"
      ]
     },
     "execution_count": 18,
     "metadata": {},
     "output_type": "execute_result"
    }
   ],
   "source": [
    "# Can also mix different datatypes as string , integer & float.\n",
    "\n",
    "markss = ('one',3,3.3)\n",
    "markss"
   ]
  },
  {
   "cell_type": "code",
   "execution_count": 20,
   "id": "877c2bbc",
   "metadata": {},
   "outputs": [
    {
     "data": {
      "text/plain": [
       "'one'"
      ]
     },
     "execution_count": 20,
     "metadata": {},
     "output_type": "execute_result"
    }
   ],
   "source": [
    "# index & find index: find element using index  (must use square brackets )\n",
    "\n",
    "markss[0] "
   ]
  },
  {
   "cell_type": "code",
   "execution_count": 25,
   "id": "0538e82a",
   "metadata": {},
   "outputs": [
    {
     "data": {
      "text/plain": [
       "0"
      ]
     },
     "execution_count": 25,
     "metadata": {},
     "output_type": "execute_result"
    }
   ],
   "source": [
    "# find index using element : name.index(element)\n",
    "\n",
    "markss.index('one')"
   ]
  },
  {
   "cell_type": "code",
   "execution_count": 22,
   "id": "b1f9d79e",
   "metadata": {},
   "outputs": [
    {
     "data": {
      "text/plain": [
       "3"
      ]
     },
     "execution_count": 22,
     "metadata": {},
     "output_type": "execute_result"
    }
   ],
   "source": [
    "# slicing : start from  negative , we need this if we have a lot of data and we dont know exactlt how much then we call last\n",
    "# or nearby last by using slicing. and its index start from -1 not 0.\n",
    "\n",
    "markss[-2]"
   ]
  },
  {
   "cell_type": "code",
   "execution_count": 26,
   "id": "088d0e27",
   "metadata": {},
   "outputs": [
    {
     "data": {
      "text/plain": [
       "(1, 2, 3, 2, 4, 2)"
      ]
     },
     "execution_count": 26,
     "metadata": {},
     "output_type": "execute_result"
    }
   ],
   "source": [
    "# Count : To count the duplicate element : name.count(element)\n",
    "\n",
    "Marks = (1,2,3,2,4,2)\n",
    "Marks"
   ]
  },
  {
   "cell_type": "code",
   "execution_count": 27,
   "id": "a04fc797",
   "metadata": {},
   "outputs": [
    {
     "data": {
      "text/plain": [
       "3"
      ]
     },
     "execution_count": 27,
     "metadata": {},
     "output_type": "execute_result"
    }
   ],
   "source": [
    "Marks.count(2)\n"
   ]
  },
  {
   "cell_type": "code",
   "execution_count": 28,
   "id": "85846d10",
   "metadata": {},
   "outputs": [
    {
     "data": {
      "text/plain": [
       "{'key1': 'value1', 'key2': 'value2'}"
      ]
     },
     "execution_count": 28,
     "metadata": {},
     "output_type": "execute_result"
    }
   ],
   "source": [
    "# Dictionary: {key : values} , it also store data but like mapping , means one key and respective value\n",
    "# Basic \n",
    "\n",
    "My = {'key1' : 'value1' , 'key2': 'value2'}\n",
    "My"
   ]
  },
  {
   "cell_type": "code",
   "execution_count": 35,
   "id": "5d0fd18c",
   "metadata": {},
   "outputs": [
    {
     "data": {
      "text/plain": [
       "{'delhi': 123, 'mumbai': 456}"
      ]
     },
     "execution_count": 35,
     "metadata": {},
     "output_type": "execute_result"
    }
   ],
   "source": [
    "# e.g:\n",
    "\n",
    "Flight ={'delhi':123,'mumbai':456}\n",
    "Flight"
   ]
  },
  {
   "cell_type": "code",
   "execution_count": 37,
   "id": "54c0b09e",
   "metadata": {},
   "outputs": [
    {
     "data": {
      "text/plain": [
       "123"
      ]
     },
     "execution_count": 37,
     "metadata": {},
     "output_type": "execute_result"
    }
   ],
   "source": [
    "# Call Value by Key:\n",
    "\n",
    "Flight['delhi']"
   ]
  },
  {
   "cell_type": "code",
   "execution_count": 38,
   "id": "a3c6213c",
   "metadata": {},
   "outputs": [
    {
     "data": {
      "text/plain": [
       "456"
      ]
     },
     "execution_count": 38,
     "metadata": {},
     "output_type": "execute_result"
    }
   ],
   "source": [
    "#Flight['mumbai']"
   ]
  },
  {
   "cell_type": "code",
   "execution_count": 39,
   "id": "fcc45df7",
   "metadata": {},
   "outputs": [
    {
     "data": {
      "text/plain": [
       "{'delhi': [12, 34, 56], 'mumbai': [89, 97, 67]}"
      ]
     },
     "execution_count": 39,
     "metadata": {},
     "output_type": "execute_result"
    }
   ],
   "source": [
    "# if we have multiple data then we can use liat too as:\n",
    "\n",
    "Flight1 ={'delhi':[12,34,56],'mumbai':[89,97,67]}\n",
    "Flight1"
   ]
  },
  {
   "cell_type": "code",
   "execution_count": 40,
   "id": "c43d6939",
   "metadata": {},
   "outputs": [
    {
     "data": {
      "text/plain": [
       "67"
      ]
     },
     "execution_count": 40,
     "metadata": {},
     "output_type": "execute_result"
    }
   ],
   "source": [
    "# let's call element from dictionary :\n",
    "\n",
    "# syntax : name['key'][Value/index]\n",
    "\n",
    "Flight1['mumbai'][2]\n"
   ]
  },
  {
   "cell_type": "code",
   "execution_count": 42,
   "id": "4f9fcbda",
   "metadata": {},
   "outputs": [
    {
     "data": {
      "text/plain": [
       "97"
      ]
     },
     "execution_count": 42,
     "metadata": {},
     "output_type": "execute_result"
    }
   ],
   "source": [
    "Flight1['mumbai'][-2]"
   ]
  },
  {
   "cell_type": "code",
   "execution_count": 44,
   "id": "7800635f",
   "metadata": {},
   "outputs": [
    {
     "data": {
      "text/plain": [
       "'A'"
      ]
     },
     "execution_count": 44,
     "metadata": {},
     "output_type": "execute_result"
    }
   ],
   "source": [
    "# Upper & lower Case :\n",
    "# syntax : name['key'][index].upper/lower() ----only works on character or string\n",
    "\n",
    "My['key1'][1].upper()\n",
    "\n",
    "# i.e value - index 1 is 'a' ."
   ]
  },
  {
   "cell_type": "code",
   "execution_count": 48,
   "id": "09b2aa7d",
   "metadata": {},
   "outputs": [
    {
     "data": {
      "text/plain": [
       "{'delhi': 123, 'mumbai': 456}"
      ]
     },
     "execution_count": 48,
     "metadata": {},
     "output_type": "execute_result"
    }
   ],
   "source": [
    "# Subtracton : if we want to subtract any value then : operand must be int. \n",
    "Flight"
   ]
  },
  {
   "cell_type": "code",
   "execution_count": 50,
   "id": "44d7da5a",
   "metadata": {},
   "outputs": [
    {
     "data": {
      "text/plain": [
       "0"
      ]
     },
     "execution_count": 50,
     "metadata": {},
     "output_type": "execute_result"
    }
   ],
   "source": [
    "Flights = Flight['mumbai']-456\n",
    "Flights"
   ]
  },
  {
   "cell_type": "code",
   "execution_count": 51,
   "id": "20bec6d8",
   "metadata": {},
   "outputs": [
    {
     "data": {
      "text/plain": [
       "6"
      ]
     },
     "execution_count": 51,
     "metadata": {},
     "output_type": "execute_result"
    }
   ],
   "source": [
    "Flights = Flight['mumbai']-450\n",
    "Flights"
   ]
  },
  {
   "cell_type": "code",
   "execution_count": 52,
   "id": "8664483a",
   "metadata": {},
   "outputs": [
    {
     "data": {
      "text/plain": [
       "466"
      ]
     },
     "execution_count": 52,
     "metadata": {},
     "output_type": "execute_result"
    }
   ],
   "source": [
    "# Addition :\n",
    " \n",
    "Flightss = Flight['mumbai']+10\n",
    "Flightss"
   ]
  },
  {
   "cell_type": "code",
   "execution_count": 58,
   "id": "893b5227",
   "metadata": {},
   "outputs": [
    {
     "data": {
      "text/plain": [
       "{'delhi': 123, 'mumbai': 472}"
      ]
     },
     "execution_count": 58,
     "metadata": {},
     "output_type": "execute_result"
    }
   ],
   "source": [
    "# set the object equal to itself \n",
    "Flight\n"
   ]
  },
  {
   "cell_type": "code",
   "execution_count": 60,
   "id": "a9778437",
   "metadata": {},
   "outputs": [
    {
     "data": {
      "text/plain": [
       "{'delhi': 125, 'mumbai': 472}"
      ]
     },
     "execution_count": 60,
     "metadata": {},
     "output_type": "execute_result"
    }
   ],
   "source": [
    "Flight['delhi']+=2\n",
    "Flight"
   ]
  },
  {
   "cell_type": "code",
   "execution_count": 62,
   "id": "4c4a3821",
   "metadata": {},
   "outputs": [],
   "source": [
    "# crate a new dictionary:\n",
    "\n",
    "d ={}"
   ]
  },
  {
   "cell_type": "code",
   "execution_count": 64,
   "id": "b67201cb",
   "metadata": {},
   "outputs": [
    {
     "data": {
      "text/plain": [
       "{'animal': 'dog'}"
      ]
     },
     "execution_count": 64,
     "metadata": {},
     "output_type": "execute_result"
    }
   ],
   "source": [
    "# Alternate to value of corresponding key\n",
    "\n",
    "d['animal']='dog'\n",
    "d"
   ]
  },
  {
   "cell_type": "code",
   "execution_count": 71,
   "id": "b974672e",
   "metadata": {},
   "outputs": [
    {
     "data": {
      "text/plain": [
       "{'key1': {'nestkey': {'subnestkey': [10, 20, 30]}}}"
      ]
     },
     "execution_count": 71,
     "metadata": {},
     "output_type": "execute_result"
    }
   ],
   "source": [
    "#NESTING with Dictionaries:\n",
    "\n",
    "d= {'key1':{'nestkey':{'subnestkey':[10,20,30]}}}\n",
    "d"
   ]
  },
  {
   "cell_type": "code",
   "execution_count": 73,
   "id": "a5ab67e6",
   "metadata": {},
   "outputs": [
    {
     "data": {
      "text/plain": [
       "30"
      ]
     },
     "execution_count": 73,
     "metadata": {},
     "output_type": "execute_result"
    }
   ],
   "source": [
    "# Assignment : must be 30\n",
    "\n",
    "d['key1']['nestkey']['subnestkey'][2]"
   ]
  },
  {
   "cell_type": "code",
   "execution_count": 74,
   "id": "e1e1be65",
   "metadata": {},
   "outputs": [
    {
     "data": {
      "text/plain": [
       "{'delhi': 878, 'mumbai': 990, 'noida': 988}"
      ]
     },
     "execution_count": 74,
     "metadata": {},
     "output_type": "execute_result"
    }
   ],
   "source": [
    "# Create a new :\n",
    "\n",
    "dict = {'delhi':878,'mumbai':990,'noida':988}\n",
    "dict"
   ]
  },
  {
   "cell_type": "code",
   "execution_count": 75,
   "id": "53c5cc38",
   "metadata": {},
   "outputs": [
    {
     "data": {
      "text/plain": [
       "dict_keys(['delhi', 'mumbai', 'noida'])"
      ]
     },
     "execution_count": 75,
     "metadata": {},
     "output_type": "execute_result"
    }
   ],
   "source": [
    "# if we want to have only keys:\n",
    "\n",
    "dict.keys()"
   ]
  },
  {
   "cell_type": "code",
   "execution_count": 77,
   "id": "f796f87a",
   "metadata": {},
   "outputs": [
    {
     "data": {
      "text/plain": [
       "dict_values([878, 990, 988])"
      ]
     },
     "execution_count": 77,
     "metadata": {},
     "output_type": "execute_result"
    }
   ],
   "source": [
    "# if we want to have only values:\n",
    "\n",
    "dict.values()"
   ]
  },
  {
   "cell_type": "code",
   "execution_count": 80,
   "id": "a10c6d08",
   "metadata": {},
   "outputs": [
    {
     "data": {
      "text/plain": [
       "{0: 0,\n",
       " 1: 1,\n",
       " 2: 4,\n",
       " 3: 9,\n",
       " 4: 16,\n",
       " 5: 25,\n",
       " 6: 36,\n",
       " 7: 49,\n",
       " 8: 64,\n",
       " 9: 81,\n",
       " 10: 100,\n",
       " 11: 121,\n",
       " 12: 144,\n",
       " 13: 169,\n",
       " 14: 196,\n",
       " 15: 225,\n",
       " 16: 256,\n",
       " 17: 289,\n",
       " 18: 324,\n",
       " 19: 361}"
      ]
     },
     "execution_count": 80,
     "metadata": {},
     "output_type": "execute_result"
    }
   ],
   "source": [
    "# Dictionary Comprehension:\n",
    "\n",
    "{x:x**2 for x in range(20)}  # it takes all the values from 0 to 19 , as 20 is excluded."
   ]
  },
  {
   "cell_type": "code",
   "execution_count": 82,
   "id": "ece0b598",
   "metadata": {},
   "outputs": [],
   "source": [
    "dct = {'Salary':[10,20,30], 'emp_num':[1,22,333]}\n",
    "for i in dct.values():\n",
    "\n",
    "    if i == 30:\n",
    "\n",
    "        print (i)"
   ]
  },
  {
   "cell_type": "code",
   "execution_count": null,
   "id": "fa44d99a",
   "metadata": {},
   "outputs": [],
   "source": []
  },
  {
   "cell_type": "code",
   "execution_count": null,
   "id": "9512b4c9",
   "metadata": {},
   "outputs": [],
   "source": []
  }
 ],
 "metadata": {
  "kernelspec": {
   "display_name": "Python 3 (ipykernel)",
   "language": "python",
   "name": "python3"
  },
  "language_info": {
   "codemirror_mode": {
    "name": "ipython",
    "version": 3
   },
   "file_extension": ".py",
   "mimetype": "text/x-python",
   "name": "python",
   "nbconvert_exporter": "python",
   "pygments_lexer": "ipython3",
   "version": "3.9.12"
  }
 },
 "nbformat": 4,
 "nbformat_minor": 5
}
