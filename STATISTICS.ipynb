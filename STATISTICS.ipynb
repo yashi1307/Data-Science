{
 "cells": [
  {
   "cell_type": "markdown",
   "id": "7ae35cbf",
   "metadata": {},
   "source": [
    "## STATISTICS:\n",
    "\n",
    "The science of collecting, analyzing, presenting, and interpreting data.\n",
    "\n",
    "Statistics is an important field because it helps us understand the general trends and patterns in a given data set. Statistics can be used for analysing data and drawing conclusions from it. It can also be used for making predictions about future events and behaviours. "
   ]
  },
  {
   "cell_type": "markdown",
   "id": "6d4068da",
   "metadata": {},
   "source": [
    "## TYPES OF STATISTICS: DESCRIPTIVE & INFERENTIAL\n",
    "\n",
    "Descriptive statistics focus on describing the visible characteristics of a dataset (a population or sample). Meanwhile, inferential statistics focus on making predictions or generalizations about a larger dataset, based on a sample of those data.\n",
    "\n",
    "Overall , Descriptive Statistics gives the entire information like we know who gonna be MC in our ward as we know almost everthing about person , ao we can describe him/her properly .\n",
    "\n",
    "Also , Descriptive statistics works on small population.\n",
    "\n",
    "Meanwhile , Inferential statistics gives the information based on predictions of RANDOM SAMPLE. It always works on sample."
   ]
  },
  {
   "cell_type": "markdown",
   "id": "864e92e5",
   "metadata": {},
   "source": [
    "## POPULATION & SAMPLE:\n",
    "\n",
    "A population is the entire group that you want to draw conclusions about. e.g School , institute , university etc.\n",
    "\n",
    "A sample is the specific group that you will collect data from. e.g particular class, student or smaller version of any larger group.\n",
    "\n",
    "The size of the sample is always less than the total size of the population. Becoz , sample is a part of population."
   ]
  },
  {
   "cell_type": "markdown",
   "id": "da887e7d",
   "metadata": {},
   "source": [
    "## Analytics methodology & how industry use statistics:\n",
    "\n",
    "                               1) Weather forecasting\n",
    "                               2) Giving Insurance\n",
    "                               3) Stock Market\n",
    "                               4) Diseased survival probability\n",
    "                               5) Election winning & exit poll predecitions\n",
    "                               6) Loan approval & fraud detection\n",
    "                               7) Netflix/Amazon Recommendations\n",
    "                               8) New campaign Effectiveness"
   ]
  },
  {
   "cell_type": "code",
   "execution_count": 1,
   "id": "91b7bde8",
   "metadata": {},
   "outputs": [],
   "source": [
    "import statistics as st     # To call statistics"
   ]
  },
  {
   "cell_type": "markdown",
   "id": "43526a6f",
   "metadata": {},
   "source": [
    "# MEAN : \n",
    "\n",
    "The mean refers to the average of a set of values. The mean can be computed in a number of ways, including the simple arithmetic mean (add up the numbers and divide the total by the number of observations), the geometric mean, and the harmonic mean."
   ]
  },
  {
   "cell_type": "code",
   "execution_count": 12,
   "id": "8670f309",
   "metadata": {},
   "outputs": [
    {
     "name": "stdout",
     "output_type": "stream",
     "text": [
      "49.09090909090909\n"
     ]
    }
   ],
   "source": [
    "x = [10,20,30,40,40,50,50,60,70,80,90]\n",
    "print(st.mean(x))                #print(st.mean(variable_name))"
   ]
  },
  {
   "cell_type": "markdown",
   "id": "ef4d7ae2",
   "metadata": {},
   "source": [
    "## MEDIAN:\n",
    "\n",
    "The median is the middle number in a sorted, ascending or descending list of numbers and can be more descriptive of that data set than the average. It is the point above and below which half (50%) the observed data falls, and so represents the midpoint of the data.\n",
    "\n",
    "if we have odd numbers then middle most will be median\n",
    "\n",
    "if we have even number then mean of middle two will be median."
   ]
  },
  {
   "cell_type": "code",
   "execution_count": 13,
   "id": "c1f84c64",
   "metadata": {},
   "outputs": [
    {
     "name": "stdout",
     "output_type": "stream",
     "text": [
      "50\n"
     ]
    }
   ],
   "source": [
    "print(st.median(x))      # For odd numbers"
   ]
  },
  {
   "cell_type": "code",
   "execution_count": 17,
   "id": "507c6355",
   "metadata": {},
   "outputs": [
    {
     "name": "stdout",
     "output_type": "stream",
     "text": [
      "50.0\n"
     ]
    }
   ],
   "source": [
    "y=[10,20,30,40,40,50,50,50,50,60,70,80,90,90]\n",
    "print(st.median(y))         # For even , it is mean of middle two i.e 50 & 50. "
   ]
  },
  {
   "cell_type": "markdown",
   "id": "cab915c4",
   "metadata": {},
   "source": [
    "## MODE:\n",
    "\n",
    "The mode is the value that appears most frequently in a data set. A set of data may have one mode, more than one mode, or no mode at all."
   ]
  },
  {
   "cell_type": "code",
   "execution_count": 18,
   "id": "96169a83",
   "metadata": {},
   "outputs": [
    {
     "name": "stdout",
     "output_type": "stream",
     "text": [
      "50\n"
     ]
    }
   ],
   "source": [
    "print(st.mode(y))"
   ]
  },
  {
   "cell_type": "markdown",
   "id": "f35ad40a",
   "metadata": {},
   "source": [
    "## DEPENDENT & INDEPENDENT VARIABLE:\n",
    "\n",
    "The independent variable is the cause. Its value is independent of other variables in your study. The dependent variable is the effect. Its value depends on changes in the independent variable.\n",
    "\n",
    "Dependent Variable : Graph  b/w study hours & marks, more your study hours , more your marks will be . Means your marks depends on study hours.\n",
    "\n",
    "\n",
    "Independent Variable: But study hours doesn't depend on anything like whts the medium or source of study like ohone , books , oc etc. so study hours are independent.\n",
    "\n",
    "Or , Graph b/w salary & experience , salary depends on experience. \n",
    "But , Experience in independent of anything.\n"
   ]
  },
  {
   "cell_type": "markdown",
   "id": "99fb3bef",
   "metadata": {},
   "source": [
    "## TYPES OF VARIABLE : CONTINUOUS & CATEGORICAL VARIABLES:\n",
    "\n",
    "Categorical variables, aka discrete variables. These come in only a fixed number of values – like dead/alive, obese/overweight/normal/underweight, Apgar score. \n",
    "\n",
    "Continuous variables. These can have any value between a theoretical minimum and maximum, like birth weight, BMI, temperature, neutrophil count"
   ]
  },
  {
   "cell_type": "markdown",
   "id": "dd89e695",
   "metadata": {},
   "source": [
    "## DESCRIPTIVE STATISTICS :\n",
    "\n",
    "                          Measue of Central Tendency (Mean , Median & Mode)\n",
    "                          Measure of Dispersion (spread) (Variance & Standard Deviation)\n",
    "                          \n",
    "                \n",
    "                          "
   ]
  },
  {
   "cell_type": "code",
   "execution_count": 1,
   "id": "db760dcd",
   "metadata": {},
   "outputs": [],
   "source": [
    "import numpy as np"
   ]
  },
  {
   "cell_type": "code",
   "execution_count": 2,
   "id": "fddf9634",
   "metadata": {},
   "outputs": [
    {
     "data": {
      "text/plain": [
       "32.0"
      ]
     },
     "execution_count": 2,
     "metadata": {},
     "output_type": "execute_result"
    }
   ],
   "source": [
    "x =[20,40,36]\n",
    "avg = np.mean(x)\n",
    "avg"
   ]
  },
  {
   "cell_type": "code",
   "execution_count": 21,
   "id": "79cd5abf",
   "metadata": {},
   "outputs": [
    {
     "data": {
      "text/plain": [
       "74.66666666666667"
      ]
     },
     "execution_count": 21,
     "metadata": {},
     "output_type": "execute_result"
    }
   ],
   "source": [
    "np.sum((np.square(20-avg) + np.square(40-avg)+ np.square(36-avg))/3)  # Formula of Variance"
   ]
  },
  {
   "cell_type": "code",
   "execution_count": 22,
   "id": "475be8f4",
   "metadata": {},
   "outputs": [],
   "source": [
    "import numpy as np"
   ]
  },
  {
   "cell_type": "code",
   "execution_count": 23,
   "id": "2951fa19",
   "metadata": {},
   "outputs": [
    {
     "data": {
      "text/plain": [
       "74.66666666666667"
      ]
     },
     "execution_count": 23,
     "metadata": {},
     "output_type": "execute_result"
    }
   ],
   "source": [
    "# Variance : Means of Squared deviation( below)\n",
    "np.var(x)"
   ]
  },
  {
   "cell_type": "code",
   "execution_count": 24,
   "id": "25f995a8",
   "metadata": {},
   "outputs": [
    {
     "data": {
      "text/plain": [
       "8.640987597877148"
      ]
     },
     "execution_count": 24,
     "metadata": {},
     "output_type": "execute_result"
    }
   ],
   "source": [
    "# Standard Deviation : Square root of Variance or variance is square of standard deviation\n",
    "\n",
    "np.std(x)"
   ]
  },
  {
   "cell_type": "code",
   "execution_count": null,
   "id": "f204b1a5",
   "metadata": {},
   "outputs": [],
   "source": []
  }
 ],
 "metadata": {
  "kernelspec": {
   "display_name": "Python 3 (ipykernel)",
   "language": "python",
   "name": "python3"
  },
  "language_info": {
   "codemirror_mode": {
    "name": "ipython",
    "version": 3
   },
   "file_extension": ".py",
   "mimetype": "text/x-python",
   "name": "python",
   "nbconvert_exporter": "python",
   "pygments_lexer": "ipython3",
   "version": "3.9.12"
  }
 },
 "nbformat": 4,
 "nbformat_minor": 5
}
