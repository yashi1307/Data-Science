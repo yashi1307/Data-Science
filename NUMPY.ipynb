{
 "cells": [
  {
   "cell_type": "markdown",
   "id": "757f4e80",
   "metadata": {},
   "source": [
    "## NUMPY"
   ]
  },
  {
   "cell_type": "code",
   "execution_count": 1,
   "id": "50d1506d",
   "metadata": {},
   "outputs": [],
   "source": [
    "import numpy as np"
   ]
  },
  {
   "cell_type": "code",
   "execution_count": 2,
   "id": "7df707fe",
   "metadata": {},
   "outputs": [
    {
     "name": "stdout",
     "output_type": "stream",
     "text": [
      "['ALLOW_THREADS', 'AxisError', 'BUFSIZE', 'Bytes0', 'CLIP', 'ComplexWarning', 'DataSource', 'Datetime64', 'ERR_CALL', 'ERR_DEFAULT', 'ERR_IGNORE', 'ERR_LOG', 'ERR_PRINT', 'ERR_RAISE', 'ERR_WARN', 'FLOATING_POINT_SUPPORT', 'FPE_DIVIDEBYZERO', 'FPE_INVALID', 'FPE_OVERFLOW', 'FPE_UNDERFLOW', 'False_', 'Inf', 'Infinity', 'MAXDIMS', 'MAY_SHARE_BOUNDS', 'MAY_SHARE_EXACT', 'MachAr', 'ModuleDeprecationWarning', 'NAN', 'NINF', 'NZERO', 'NaN', 'PINF', 'PZERO', 'RAISE', 'RankWarning', 'SHIFT_DIVIDEBYZERO', 'SHIFT_INVALID', 'SHIFT_OVERFLOW', 'SHIFT_UNDERFLOW', 'ScalarType', 'Str0', 'Tester', 'TooHardError', 'True_', 'UFUNC_BUFSIZE_DEFAULT', 'UFUNC_PYVALS_NAME', 'Uint64', 'VisibleDeprecationWarning', 'WRAP', '_NoValue', '_UFUNC_API', '__NUMPY_SETUP__', '__all__', '__builtins__', '__cached__', '__config__', '__deprecated_attrs__', '__dir__', '__doc__', '__expired_functions__', '__file__', '__getattr__', '__git_version__', '__loader__', '__mkl_version__', '__name__', '__package__', '__path__', '__spec__', '__version__', '_add_newdoc_ufunc', '_distributor_init', '_financial_names', '_globals', '_mat', '_pytesttester', '_version', 'abs', 'absolute', 'add', 'add_docstring', 'add_newdoc', 'add_newdoc_ufunc', 'alen', 'all', 'allclose', 'alltrue', 'amax', 'amin', 'angle', 'any', 'append', 'apply_along_axis', 'apply_over_axes', 'arange', 'arccos', 'arccosh', 'arcsin', 'arcsinh', 'arctan', 'arctan2', 'arctanh', 'argmax', 'argmin', 'argpartition', 'argsort', 'argwhere', 'around', 'array', 'array2string', 'array_equal', 'array_equiv', 'array_repr', 'array_split', 'array_str', 'asanyarray', 'asarray', 'asarray_chkfinite', 'ascontiguousarray', 'asfarray', 'asfortranarray', 'asmatrix', 'asscalar', 'atleast_1d', 'atleast_2d', 'atleast_3d', 'average', 'bartlett', 'base_repr', 'binary_repr', 'bincount', 'bitwise_and', 'bitwise_not', 'bitwise_or', 'bitwise_xor', 'blackman', 'block', 'bmat', 'bool8', 'bool_', 'broadcast', 'broadcast_arrays', 'broadcast_shapes', 'broadcast_to', 'busday_count', 'busday_offset', 'busdaycalendar', 'byte', 'byte_bounds', 'bytes0', 'bytes_', 'c_', 'can_cast', 'cast', 'cbrt', 'cdouble', 'ceil', 'cfloat', 'char', 'character', 'chararray', 'choose', 'clip', 'clongdouble', 'clongfloat', 'column_stack', 'common_type', 'compare_chararrays', 'compat', 'complex128', 'complex64', 'complex_', 'complexfloating', 'compress', 'concatenate', 'conj', 'conjugate', 'convolve', 'copy', 'copysign', 'copyto', 'core', 'corrcoef', 'correlate', 'cos', 'cosh', 'count_nonzero', 'cov', 'cross', 'csingle', 'ctypeslib', 'cumprod', 'cumproduct', 'cumsum', 'datetime64', 'datetime_as_string', 'datetime_data', 'deg2rad', 'degrees', 'delete', 'deprecate', 'deprecate_with_doc', 'diag', 'diag_indices', 'diag_indices_from', 'diagflat', 'diagonal', 'diff', 'digitize', 'disp', 'divide', 'divmod', 'dot', 'double', 'dsplit', 'dstack', 'dtype', 'e', 'ediff1d', 'einsum', 'einsum_path', 'emath', 'empty', 'empty_like', 'equal', 'errstate', 'euler_gamma', 'exp', 'exp2', 'expand_dims', 'expm1', 'extract', 'eye', 'fabs', 'fastCopyAndTranspose', 'fft', 'fill_diagonal', 'find_common_type', 'finfo', 'fix', 'flatiter', 'flatnonzero', 'flexible', 'flip', 'fliplr', 'flipud', 'float16', 'float32', 'float64', 'float_', 'float_power', 'floating', 'floor', 'floor_divide', 'fmax', 'fmin', 'fmod', 'format_float_positional', 'format_float_scientific', 'format_parser', 'frexp', 'frombuffer', 'fromfile', 'fromfunction', 'fromiter', 'frompyfunc', 'fromregex', 'fromstring', 'full', 'full_like', 'gcd', 'generic', 'genfromtxt', 'geomspace', 'get_array_wrap', 'get_include', 'get_printoptions', 'getbufsize', 'geterr', 'geterrcall', 'geterrobj', 'gradient', 'greater', 'greater_equal', 'half', 'hamming', 'hanning', 'heaviside', 'histogram', 'histogram2d', 'histogram_bin_edges', 'histogramdd', 'hsplit', 'hstack', 'hypot', 'i0', 'identity', 'iinfo', 'imag', 'in1d', 'index_exp', 'indices', 'inexact', 'inf', 'info', 'infty', 'inner', 'insert', 'int0', 'int16', 'int32', 'int64', 'int8', 'int_', 'intc', 'integer', 'interp', 'intersect1d', 'intp', 'invert', 'is_busday', 'isclose', 'iscomplex', 'iscomplexobj', 'isfinite', 'isfortran', 'isin', 'isinf', 'isnan', 'isnat', 'isneginf', 'isposinf', 'isreal', 'isrealobj', 'isscalar', 'issctype', 'issubclass_', 'issubdtype', 'issubsctype', 'iterable', 'ix_', 'kaiser', 'kron', 'lcm', 'ldexp', 'left_shift', 'less', 'less_equal', 'lexsort', 'lib', 'linalg', 'linspace', 'little_endian', 'load', 'loads', 'loadtxt', 'log', 'log10', 'log1p', 'log2', 'logaddexp', 'logaddexp2', 'logical_and', 'logical_not', 'logical_or', 'logical_xor', 'logspace', 'longcomplex', 'longdouble', 'longfloat', 'longlong', 'lookfor', 'ma', 'mafromtxt', 'mask_indices', 'mat', 'math', 'matmul', 'matrix', 'matrixlib', 'max', 'maximum', 'maximum_sctype', 'may_share_memory', 'mean', 'median', 'memmap', 'meshgrid', 'mgrid', 'min', 'min_scalar_type', 'minimum', 'mintypecode', 'mkl', 'mod', 'modf', 'moveaxis', 'msort', 'multiply', 'nan', 'nan_to_num', 'nanargmax', 'nanargmin', 'nancumprod', 'nancumsum', 'nanmax', 'nanmean', 'nanmedian', 'nanmin', 'nanpercentile', 'nanprod', 'nanquantile', 'nanstd', 'nansum', 'nanvar', 'nbytes', 'ndarray', 'ndenumerate', 'ndfromtxt', 'ndim', 'ndindex', 'nditer', 'negative', 'nested_iters', 'newaxis', 'nextafter', 'nonzero', 'not_equal', 'numarray', 'number', 'obj2sctype', 'object0', 'object_', 'ogrid', 'oldnumeric', 'ones', 'ones_like', 'os', 'outer', 'packbits', 'pad', 'partition', 'percentile', 'pi', 'piecewise', 'place', 'poly', 'poly1d', 'polyadd', 'polyder', 'polydiv', 'polyfit', 'polyint', 'polymul', 'polynomial', 'polysub', 'polyval', 'positive', 'power', 'printoptions', 'prod', 'product', 'promote_types', 'ptp', 'put', 'put_along_axis', 'putmask', 'quantile', 'r_', 'rad2deg', 'radians', 'random', 'ravel', 'ravel_multi_index', 'real', 'real_if_close', 'rec', 'recarray', 'recfromcsv', 'recfromtxt', 'reciprocal', 'record', 'remainder', 'repeat', 'require', 'reshape', 'resize', 'result_type', 'right_shift', 'rint', 'roll', 'rollaxis', 'roots', 'rot90', 'round', 'round_', 'row_stack', 's_', 'safe_eval', 'save', 'savetxt', 'savez', 'savez_compressed', 'sctype2char', 'sctypeDict', 'sctypes', 'searchsorted', 'select', 'set_numeric_ops', 'set_printoptions', 'set_string_function', 'setbufsize', 'setdiff1d', 'seterr', 'seterrcall', 'seterrobj', 'setxor1d', 'shape', 'shares_memory', 'short', 'show_config', 'sign', 'signbit', 'signedinteger', 'sin', 'sinc', 'single', 'singlecomplex', 'sinh', 'size', 'sometrue', 'sort', 'sort_complex', 'source', 'spacing', 'split', 'sqrt', 'square', 'squeeze', 'stack', 'std', 'str0', 'str_', 'string_', 'subtract', 'sum', 'swapaxes', 'sys', 'take', 'take_along_axis', 'tan', 'tanh', 'tensordot', 'test', 'testing', 'tile', 'timedelta64', 'trace', 'tracemalloc_domain', 'transpose', 'trapz', 'tri', 'tril', 'tril_indices', 'tril_indices_from', 'trim_zeros', 'triu', 'triu_indices', 'triu_indices_from', 'true_divide', 'trunc', 'typecodes', 'typename', 'ubyte', 'ufunc', 'uint', 'uint0', 'uint16', 'uint32', 'uint64', 'uint8', 'uintc', 'uintp', 'ulonglong', 'unicode_', 'union1d', 'unique', 'unpackbits', 'unravel_index', 'unsignedinteger', 'unwrap', 'use_hugepage', 'ushort', 'vander', 'var', 'vdot', 'vectorize', 'version', 'void', 'void0', 'vsplit', 'vstack', 'warnings', 'where', 'who', 'zeros', 'zeros_like']\n"
     ]
    }
   ],
   "source": [
    "# check all the functions in numpy using 'dir': When you apply dir on numpy then the list of methods and attirbutes are listed as output\n",
    "\n",
    "print(dir(np))"
   ]
  },
  {
   "cell_type": "code",
   "execution_count": 3,
   "id": "9b2ce5dc",
   "metadata": {},
   "outputs": [
    {
     "data": {
      "text/plain": [
       "3.1622776601683795"
      ]
     },
     "execution_count": 3,
     "metadata": {},
     "output_type": "execute_result"
    }
   ],
   "source": [
    "# we can use all attributes mentioned above , like to find square root of any , use 'sqrt'\n",
    "\n",
    "np.sqrt(10)"
   ]
  },
  {
   "cell_type": "code",
   "execution_count": 4,
   "id": "27ef2de1",
   "metadata": {},
   "outputs": [
    {
     "name": "stdout",
     "output_type": "stream",
     "text": [
      "Minimum 7\n",
      "Maximum 89\n"
     ]
    }
   ],
   "source": [
    "# Min & Max:\n",
    "\n",
    "print('Minimum',np.amin([25,89,9,7]))\n",
    "\n",
    "print('Maximum',np.amax([25,89,9,7]))"
   ]
  },
  {
   "cell_type": "code",
   "execution_count": 5,
   "id": "0dc288bf",
   "metadata": {},
   "outputs": [
    {
     "data": {
      "text/plain": [
       "91.0"
      ]
     },
     "execution_count": 5,
     "metadata": {},
     "output_type": "execute_result"
    }
   ],
   "source": [
    "# Round off to next number: 'ceil' is used for rounding off the number.\n",
    "\n",
    "np.ceil(90.09)"
   ]
  },
  {
   "cell_type": "code",
   "execution_count": 6,
   "id": "7acaefeb",
   "metadata": {},
   "outputs": [
    {
     "data": {
      "text/plain": [
       "4.0"
      ]
     },
     "execution_count": 6,
     "metadata": {},
     "output_type": "execute_result"
    }
   ],
   "source": [
    "# multiple operations/functions: we can use multiple attributes in a single line\n",
    "\n",
    "np.ceil(np.sqrt(10))"
   ]
  },
  {
   "cell_type": "code",
   "execution_count": 7,
   "id": "4144a32a",
   "metadata": {},
   "outputs": [
    {
     "data": {
      "text/plain": [
       "12.0"
      ]
     },
     "execution_count": 7,
     "metadata": {},
     "output_type": "execute_result"
    }
   ],
   "source": [
    "np.ceil(np.sum(np.sqrt([9,16,25])))"
   ]
  },
  {
   "cell_type": "code",
   "execution_count": 8,
   "id": "c399a4d6",
   "metadata": {},
   "outputs": [
    {
     "data": {
      "text/plain": [
       "array([ 5, 20, 28])"
      ]
     },
     "execution_count": 8,
     "metadata": {},
     "output_type": "execute_result"
    }
   ],
   "source": [
    "# Array: \n",
    "\n",
    "np.array([5,20,28])"
   ]
  },
  {
   "cell_type": "code",
   "execution_count": 9,
   "id": "6346e419",
   "metadata": {},
   "outputs": [
    {
     "data": {
      "text/plain": [
       "list"
      ]
     },
     "execution_count": 9,
     "metadata": {},
     "output_type": "execute_result"
    }
   ],
   "source": [
    "type([ 5, 20, 28])"
   ]
  },
  {
   "cell_type": "code",
   "execution_count": 10,
   "id": "576e65fe",
   "metadata": {},
   "outputs": [],
   "source": [
    "#defining a variable to create array\n",
    "xyz=np.array([5,20,28])"
   ]
  },
  {
   "cell_type": "code",
   "execution_count": 11,
   "id": "74afd687",
   "metadata": {},
   "outputs": [
    {
     "data": {
      "text/plain": [
       "numpy.ndarray"
      ]
     },
     "execution_count": 11,
     "metadata": {},
     "output_type": "execute_result"
    }
   ],
   "source": [
    "type(xyz)      # now this is array , as we have defined it in a variable (xyz)"
   ]
  },
  {
   "cell_type": "code",
   "execution_count": 12,
   "id": "3e89075d",
   "metadata": {},
   "outputs": [
    {
     "name": "stdout",
     "output_type": "stream",
     "text": [
      "type- int32\n",
      "\n",
      " [[1 2]\n",
      " [3 4]\n",
      " [5 6]]\n"
     ]
    }
   ],
   "source": [
    "# Two Dimensions:\n",
    "a=np.array([[1,2],[3,4],[5,6]])\n",
    "print(\"type-\",a.dtype)     #dtype meand datatype of a\n",
    "\n",
    "print('\\n',a)      # to print a"
   ]
  },
  {
   "cell_type": "code",
   "execution_count": 13,
   "id": "4f61ec69",
   "metadata": {},
   "outputs": [
    {
     "data": {
      "text/plain": [
       "array([1., 2., 3.])"
      ]
     },
     "execution_count": 13,
     "metadata": {},
     "output_type": "execute_result"
    }
   ],
   "source": [
    "# datatype conversion:\n",
    "\n",
    "np.array([1,2,3],dtype=float)     #converting int to float\n"
   ]
  },
  {
   "cell_type": "code",
   "execution_count": 14,
   "id": "ad517f8e",
   "metadata": {},
   "outputs": [
    {
     "data": {
      "text/plain": [
       "numpy.ndarray"
      ]
     },
     "execution_count": 14,
     "metadata": {},
     "output_type": "execute_result"
    }
   ],
   "source": [
    "# Convert a list into array:\n",
    "\n",
    "a=[1,2]\n",
    "c=np.array(a)\n",
    "type(c)"
   ]
  },
  {
   "cell_type": "code",
   "execution_count": 15,
   "id": "4f148689",
   "metadata": {},
   "outputs": [
    {
     "name": "stdout",
     "output_type": "stream",
     "text": [
      "[1 2]\n"
     ]
    }
   ],
   "source": [
    "# Copy array into array:\n",
    "\n",
    "b=np.asarray(c)\n",
    "print(b)"
   ]
  },
  {
   "cell_type": "markdown",
   "id": "8e7f0258",
   "metadata": {},
   "source": [
    "## MATRIX\n"
   ]
  },
  {
   "cell_type": "code",
   "execution_count": 16,
   "id": "c68ad821",
   "metadata": {},
   "outputs": [
    {
     "name": "stdout",
     "output_type": "stream",
     "text": [
      "type/class of this object <class 'numpy.ndarray'>\n",
      "here is the matrix\n",
      ".......\n",
      " [[1 2 3]\n",
      " [4 6 7]\n",
      " [9 7 8]] \n",
      "..........\n",
      "dimension of the matrix: 2\n",
      "size of the matrix: 9\n",
      "shape of the matrix: (3, 3)\n",
      "datatype of the matrix: int32\n"
     ]
    }
   ],
   "source": [
    "my_mat = [[1,2,3],[4,6,7],[9,7,8]]\n",
    "mat= np.array(my_mat)\n",
    "print(\"type/class of this object\",type(mat))\n",
    "print(\"here is the matrix\\n.......\\n\",mat,\"\\n..........\")\n",
    "print(\"dimension of the matrix:\",mat.ndim)\n",
    "print(\"size of the matrix:\",mat.size)\n",
    "print(\"shape of the matrix:\",mat.shape)\n",
    "print(\"datatype of the matrix:\",mat.dtype)"
   ]
  },
  {
   "cell_type": "markdown",
   "id": "0d165376",
   "metadata": {},
   "source": [
    "## arange and linspace\n"
   ]
  },
  {
   "cell_type": "code",
   "execution_count": 17,
   "id": "a47022de",
   "metadata": {},
   "outputs": [
    {
     "ename": "TypeError",
     "evalue": "'float' object cannot be interpreted as an integer",
     "output_type": "error",
     "traceback": [
      "\u001b[1;31m---------------------------------------------------------------------------\u001b[0m",
      "\u001b[1;31mTypeError\u001b[0m                                 Traceback (most recent call last)",
      "Input \u001b[1;32mIn [17]\u001b[0m, in \u001b[0;36m<cell line: 5>\u001b[1;34m()\u001b[0m\n\u001b[0;32m      1\u001b[0m \u001b[38;5;66;03m# 'arange' in NUMPY as similar to 'range' in python . \u001b[39;00m\n\u001b[0;32m      2\u001b[0m \n\u001b[0;32m      3\u001b[0m \u001b[38;5;66;03m# In 'range' we can only use 'int values' , but in 'arange' we can use int as well as float values.\u001b[39;00m\n\u001b[1;32m----> 5\u001b[0m \u001b[38;5;28mlist\u001b[39m(\u001b[38;5;28;43mrange\u001b[39;49m\u001b[43m(\u001b[49m\u001b[38;5;241;43m10\u001b[39;49m\u001b[43m,\u001b[49m\u001b[38;5;241;43m20\u001b[39;49m\u001b[43m,\u001b[49m\u001b[38;5;241;43m3.5\u001b[39;49m\u001b[43m)\u001b[49m)\n",
      "\u001b[1;31mTypeError\u001b[0m: 'float' object cannot be interpreted as an integer"
     ]
    }
   ],
   "source": [
    "# 'arange' in NUMPY as similar to 'range' in python . \n",
    "\n",
    "# In 'range' we can only use 'int values' , but in 'arange' we can use int as well as float values.\n",
    "\n",
    "list(range(10,20,3.5))   # here range cannot use float values"
   ]
  },
  {
   "cell_type": "code",
   "execution_count": null,
   "id": "e41ba9aa",
   "metadata": {},
   "outputs": [],
   "source": [
    "import numpy as np"
   ]
  },
  {
   "cell_type": "code",
   "execution_count": 32,
   "id": "cfd766f7",
   "metadata": {},
   "outputs": [
    {
     "data": {
      "text/plain": [
       "array([ 2. ,  2.4,  2.8,  3.2,  3.6,  4. ,  4.4,  4.8,  5.2,  5.6,  6. ,\n",
       "        6.4,  6.8,  7.2,  7.6,  8. ,  8.4,  8.8,  9.2,  9.6, 10. , 10.4])"
      ]
     },
     "execution_count": 32,
     "metadata": {},
     "output_type": "execute_result"
    }
   ],
   "source": [
    "a= np.arange(2,10.5,.4)# here arnage accepted float values\n",
    "a"
   ]
  },
  {
   "cell_type": "code",
   "execution_count": 33,
   "id": "025e7efc",
   "metadata": {},
   "outputs": [
    {
     "data": {
      "text/plain": [
       "array([10.4, 10. ,  9.6,  9.2,  8.8,  8.4,  8. ,  7.6,  7.2,  6.8,  6.4,\n",
       "        6. ,  5.6,  5.2,  4.8,  4.4,  4. ,  3.6,  3.2,  2.8,  2.4,  2. ])"
      ]
     },
     "execution_count": 33,
     "metadata": {},
     "output_type": "execute_result"
    }
   ],
   "source": [
    "# Reverse order:\n",
    "\n",
    "a[::-1]"
   ]
  },
  {
   "cell_type": "code",
   "execution_count": 34,
   "id": "4ed3103b",
   "metadata": {},
   "outputs": [
    {
     "name": "stdout",
     "output_type": "stream",
     "text": [
      "every 5th number from 50 in reverse order\n",
      " [50 45 40 35 30 25 20 15 10  5  0]\n"
     ]
    }
   ],
   "source": [
    "print('every 5th number from 50 in reverse order\\n',np.arange(50,-1,-5))"
   ]
  },
  {
   "cell_type": "code",
   "execution_count": null,
   "id": "f6bcb440",
   "metadata": {},
   "outputs": [],
   "source": [
    "# LINSPACE : linear space with equal space within each value of range.\n",
    "\n",
    "print('lineraly spaced number between 10 and 40 \\n.................')\n",
    "print(np.linspace(10,40,5)) "
   ]
  },
  {
   "cell_type": "code",
   "execution_count": 35,
   "id": "3acc7ccb",
   "metadata": {},
   "outputs": [
    {
     "data": {
      "text/plain": [
       "(array([2.  , 2.25, 2.5 , 2.75]), 0.25)"
      ]
     },
     "execution_count": 35,
     "metadata": {},
     "output_type": "execute_result"
    }
   ],
   "source": [
    "# Include end point and check space between the points \n",
    "# By default end point = true\n",
    "# By default restep = false\n",
    "\n",
    "# Signature: np.linspace(start , stop,num=50 endpoint = true , retstep = false)\n",
    "\n",
    "np.linspace(2.0, 3.0, num=4 ,endpoint= False , retstep = True)  # endpoint false means end point excluded i.e 3 is excluded.\n",
    "                                                        #retstep True means we want to know the stepsize b/w values."
   ]
  },
  {
   "cell_type": "code",
   "execution_count": 37,
   "id": "07aeac06",
   "metadata": {},
   "outputs": [
    {
     "data": {
      "text/plain": [
       "array([2.        , 2.33333333, 2.66666667, 3.        ])"
      ]
     },
     "execution_count": 37,
     "metadata": {},
     "output_type": "execute_result"
    }
   ],
   "source": [
    "np.linspace(2.0, 3.0, num=4 )   # by default ene point is True i.e included , 3 and restep is false.\n"
   ]
  },
  {
   "cell_type": "code",
   "execution_count": 36,
   "id": "de3a0f60",
   "metadata": {},
   "outputs": [
    {
     "data": {
      "text/plain": [
       "array([2.        , 2.33333333, 2.66666667, 3.        ])"
      ]
     },
     "execution_count": 36,
     "metadata": {},
     "output_type": "execute_result"
    }
   ],
   "source": [
    "# same with endpoint = True \n",
    "\n",
    "np.linspace(2.0, 3.0, num=4, endpoint=True , retstep = False) # here retstep is false means step size is not mntioned."
   ]
  },
  {
   "cell_type": "code",
   "execution_count": 38,
   "id": "d3656230",
   "metadata": {},
   "outputs": [
    {
     "data": {
      "text/plain": [
       "(array([789.98  , 815.2275, 840.475 , 865.7225, 890.97  ]), 25.247500000000002)"
      ]
     },
     "execution_count": 38,
     "metadata": {},
     "output_type": "execute_result"
    }
   ],
   "source": [
    "b = np.linspace(789.98,890.97 , num=5 , retstep = True)\n",
    "b"
   ]
  },
  {
   "cell_type": "markdown",
   "id": "2da7ebc3",
   "metadata": {},
   "source": [
    "# MATRIX CREATION :"
   ]
  },
  {
   "cell_type": "markdown",
   "id": "c3ca827f",
   "metadata": {},
   "source": [
    "# MATRIX DIMENSIONS ARE ALWAYSSEPCIFIED BY TUPLES '()'"
   ]
  },
  {
   "cell_type": "code",
   "execution_count": 31,
   "id": "1d8144d8",
   "metadata": {},
   "outputs": [
    {
     "data": {
      "text/plain": [
       "array([0., 0., 0., 0., 0.])"
      ]
     },
     "execution_count": 31,
     "metadata": {},
     "output_type": "execute_result"
    }
   ],
   "source": [
    "# TO generate Zeros matrix using 'np.zeros' of any order\n",
    "# np.zeros(this may be any order)\n",
    "np.zeros(5)  # order is basically 1*5  i.e one row , 5 columns or VECTOR OF ZEROS.\n"
   ]
  },
  {
   "cell_type": "code",
   "execution_count": 30,
   "id": "2f6fe7d6",
   "metadata": {},
   "outputs": [
    {
     "data": {
      "text/plain": [
       "array([[0., 0., 0., 0.],\n",
       "       [0., 0., 0., 0.],\n",
       "       [0., 0., 0., 0.]])"
      ]
     },
     "execution_count": 30,
     "metadata": {},
     "output_type": "execute_result"
    }
   ],
   "source": [
    "# MATRIX OF ZEROS:\n",
    "\n",
    "# np.zeros(row,column)\n",
    "\n",
    "np.zeros((3,4))# first bracket is for syntax , inner is for (row,column)\n"
   ]
  },
  {
   "cell_type": "code",
   "execution_count": 29,
   "id": "d530e6a1",
   "metadata": {},
   "outputs": [
    {
     "data": {
      "text/plain": [
       "array([1., 1., 1., 1., 1.])"
      ]
     },
     "execution_count": 29,
     "metadata": {},
     "output_type": "execute_result"
    }
   ],
   "source": [
    "# VECTORS /MATRIX OF ONES :\n",
    "\n",
    "# np.ones(n) n may be anything \n",
    "\n",
    "np.ones(5)"
   ]
  },
  {
   "cell_type": "code",
   "execution_count": 28,
   "id": "6b8a76a7",
   "metadata": {},
   "outputs": [
    {
     "data": {
      "text/plain": [
       "array([[1., 1., 1., 1., 1.],\n",
       "       [1., 1., 1., 1., 1.],\n",
       "       [1., 1., 1., 1., 1.],\n",
       "       [1., 1., 1., 1., 1.]])"
      ]
     },
     "execution_count": 28,
     "metadata": {},
     "output_type": "execute_result"
    }
   ],
   "source": [
    "# MATRIX OF ONES :\n",
    "\n",
    "# np.ones(row,column)\n",
    "\n",
    "np.ones((4,5))  #i.e 4 rows , 5 columns"
   ]
  },
  {
   "cell_type": "code",
   "execution_count": 25,
   "id": "82ebc408",
   "metadata": {},
   "outputs": [
    {
     "data": {
      "text/plain": [
       "array([[5., 5., 5., 5.],\n",
       "       [5., 5., 5., 5.],\n",
       "       [5., 5., 5., 5.]])"
      ]
     },
     "execution_count": 25,
     "metadata": {},
     "output_type": "execute_result"
    }
   ],
   "source": [
    "# MATRIX OF ALL (n) SAME ELEMENTS USING MATRIX OF ONES:\n",
    "# n*np.ones((row,column))\n",
    "\n",
    "5*np.ones((3,4))"
   ]
  },
  {
   "cell_type": "code",
   "execution_count": 24,
   "id": "b2c1dcc3",
   "metadata": {},
   "outputs": [
    {
     "data": {
      "text/plain": [
       "array([[ 0,  1,  2,  3,  4,  5],\n",
       "       [ 6,  7,  8,  9, 10, 11],\n",
       "       [12, 13, 14, 15, 16, 17],\n",
       "       [18, 19, 20, 21, 22, 23],\n",
       "       [24, 25, 26, 27, 28, 29]])"
      ]
     },
     "execution_count": 24,
     "metadata": {},
     "output_type": "execute_result"
    }
   ],
   "source": [
    "# Diagonal Matrix using 'arange' & 'linsapce'\n",
    "\n",
    "# variable = np.arange(range of elements).reshape(row,column)\n",
    "x = np.arange(30).reshape(5,6) # values in range or product of row & column must be same , otherwise it will be unbalanced. \n",
    "x   # or print(x)"
   ]
  },
  {
   "cell_type": "markdown",
   "id": "ddb587fa",
   "metadata": {},
   "source": [
    "## RANDOM NUMBER GENERATION : will study rand , randn & randint one by one."
   ]
  },
  {
   "cell_type": "code",
   "execution_count": 23,
   "id": "8b66387d",
   "metadata": {},
   "outputs": [
    {
     "name": "stdout",
     "output_type": "stream",
     "text": [
      "random no. generation(from uniform distribution)\n",
      "[[0.89286015 0.33197981 0.82122912 0.04169663 0.10765668 0.59505206]\n",
      " [0.52981736 0.41880743 0.33540785 0.62251943 0.43814143 0.73588211]\n",
      " [0.51803641 0.5788586  0.6453551  0.99022427 0.8198582  0.41320093]\n",
      " [0.87626766 0.82375943 0.05447451 0.71863724 0.80217056 0.73640664]\n",
      " [0.70913175 0.54093685 0.12482417 0.9576473  0.4032563  0.21695116]\n",
      " [0.71727585 0.99420744 0.25561406 0.67130943 0.59900591 0.71733215]\n",
      " [0.93734953 0.35180977 0.2536341  0.40247251 0.74651072 0.72407057]\n",
      " [0.4061078  0.98937985 0.45049928 0.37380843 0.70962861 0.08245855]\n",
      " [0.39837292 0.77088097 0.76475098 0.28385938 0.18954219 0.47125096]\n",
      " [0.33480604 0.73473504 0.18910712 0.33110407 0.84422842 0.61502403]]\n"
     ]
    }
   ],
   "source": [
    "# In 'arange' we actually knows the values which we want to print  , BUT in 'Random number generation' output will be random.\n",
    "\n",
    "# np.random.seed(n)   #  each seed will print similar data , and 'n' may be anything.\n",
    "\n",
    "np.random.seed(6)\n",
    "print('random no. generation(from uniform distribution)')\n",
    "\n",
    "# print(np.random.rand(row,column))\n",
    "\n",
    "print(np.random.rand(10,6))\n",
    "\n",
    "# here random is for all random numbers , but seed will give similar data always\n",
    "\n",
    "# properties of rand :\n",
    "# all values will be +ve , less than 1 float values and almost approx to each other(i.e uniform)"
   ]
  },
  {
   "cell_type": "code",
   "execution_count": 22,
   "id": "338e501e",
   "metadata": {},
   "outputs": [
    {
     "name": "stdout",
     "output_type": "stream",
     "text": [
      "numbers from normal distribution with zero mean and standard deviation one\n",
      "[[-0.19182994 -0.10743127 -2.19924847  1.40525682 -0.06680966 -1.74604402]\n",
      " [-0.06627533  0.35258264  1.59363877  1.20166403  3.80940557 -1.33159554]\n",
      " [-0.98005032 -0.72330662 -0.06080195 -0.88252548  0.52755774 -0.45542401]\n",
      " [-0.09687483 -0.15104131 -1.02383823  0.11460261 -1.46091976 -0.51691196]\n",
      " [-0.96460663 -0.81851483  0.32148336  0.62717233  1.51850894  0.50281221]\n",
      " [-0.51937652 -0.55562103 -0.37066982  1.41141525 -0.20991876 -0.80523002]\n",
      " [-0.12888396  0.27878497  0.46897124  0.42673545  0.86664299 -0.31906599]\n",
      " [ 0.23522417 -0.4858554  -1.1738736   0.42786623  0.15425998 -0.03023139]\n",
      " [ 0.21825493 -0.46532805  1.59855835 -0.11842991  1.82779599 -1.22127309]\n",
      " [ 0.88566411  0.42013036 -0.28224653 -0.8180432  -1.62563621  0.17779913]]\n"
     ]
    }
   ],
   "source": [
    "## RANDN i.e randn(): may be +ve or -ve , float values , it will give bell shape curve(norml distribution) not uniform.\n",
    "\n",
    "# .seed don't work here in randn, it will always print different data.\n",
    "\n",
    "print(\"numbers from normal distribution with zero mean and standard deviation one\")\n",
    "print(np.random.randn(10,6))"
   ]
  },
  {
   "cell_type": "code",
   "execution_count": 21,
   "id": "0d152822",
   "metadata": {},
   "outputs": [
    {
     "data": {
      "text/plain": [
       "array([14, 18, 11, 17, 11])"
      ]
     },
     "execution_count": 21,
     "metadata": {},
     "output_type": "execute_result"
    }
   ],
   "source": [
    "## RANDINT i.e randint(): it will print integer values as other gives float values.\n",
    "\n",
    "# np.random.randint(start(low) , stop(high) , no. of values(size) )\n",
    "\n",
    "np.random.randint(10,20,5)"
   ]
  },
  {
   "cell_type": "code",
   "execution_count": 20,
   "id": "2aeff2cb",
   "metadata": {},
   "outputs": [
    {
     "data": {
      "text/plain": [
       "array([[70, 56, 62, 70],\n",
       "       [48, 77, 39, 47],\n",
       "       [81,  5, 66, 50]])"
      ]
     },
     "execution_count": 20,
     "metadata": {},
     "output_type": "execute_result"
    }
   ],
   "source": [
    "## RANDINT IN MATRIX:\n",
    "\n",
    "#np.random.randint(start(low),stop(high),(row,column))\n",
    "\n",
    "np.random.randint(1,100,(3,4)) # random integer numbers in between 1 t0 100 of order 3*4"
   ]
  },
  {
   "cell_type": "markdown",
   "id": "1db896a1",
   "metadata": {},
   "source": [
    "## Real time example of randint:"
   ]
  },
  {
   "cell_type": "code",
   "execution_count": 19,
   "id": "25b7251e",
   "metadata": {},
   "outputs": [
    {
     "name": "stdout",
     "output_type": "stream",
     "text": [
      "Your Otp is [7450]\n",
      "Enter Otp1250\n",
      "invalid otp , generate new otp\n",
      "Your Otp is [7733]\n",
      "Enter Otp5268\n",
      "invalid otp , generate new otp\n",
      "Your Otp is [6437]\n",
      "Enter Otp4845\n",
      "invalid otp , generate new otp\n",
      "Your Otp is [1254]\n",
      "Enter Otp1254\n",
      "Login Success\n"
     ]
    }
   ],
   "source": [
    "import numpy as np\n",
    "while True :\n",
    "    otp1=np.random.randint(1000,10000,1)  # 4 digit random integer number b/w data , size =1\n",
    "    print('Your Otp is',otp1)\n",
    "    user_otp =int(input('Enter Otp'))\n",
    "    if otp1 ==user_otp:\n",
    "        print('Login Success')\n",
    "        break\n",
    "    else:\n",
    "        print('invalid otp , generate new otp')\n",
    "    continue\n",
    "    "
   ]
  },
  {
   "cell_type": "markdown",
   "id": "8f21eec7",
   "metadata": {},
   "source": [
    "## Reshaping Other ways"
   ]
  },
  {
   "cell_type": "code",
   "execution_count": 41,
   "id": "c2124739",
   "metadata": {},
   "outputs": [
    {
     "data": {
      "text/plain": [
       "array([12, 19, 16, 12, 15, 12, 17, 15, 11, 11, 17, 15, 14, 12, 18, 18, 17,\n",
       "       18, 10, 18, 19, 12, 10, 17, 16, 10, 17, 15, 11, 18])"
      ]
     },
     "execution_count": 41,
     "metadata": {},
     "output_type": "execute_result"
    }
   ],
   "source": [
    "import numpy as np\n",
    "from numpy.random import randint as ri\n",
    "\n",
    "#variable = ri(start, stop, size)\n",
    "\n",
    "a=ri(10,20,30) # 3 random integer b/w given data\n",
    "a"
   ]
  },
  {
   "cell_type": "code",
   "execution_count": 42,
   "id": "ba565fc6",
   "metadata": {},
   "outputs": [
    {
     "data": {
      "text/plain": [
       "array([[12, 19, 16, 12, 15],\n",
       "       [12, 17, 15, 11, 11],\n",
       "       [17, 15, 14, 12, 18],\n",
       "       [18, 17, 18, 10, 18],\n",
       "       [19, 12, 10, 17, 16],\n",
       "       [10, 17, 15, 11, 18]])"
      ]
     },
     "execution_count": 42,
     "metadata": {},
     "output_type": "execute_result"
    }
   ],
   "source": [
    "# Reshape in MATRIX : Remember total elemets and product of rows & column must be same: as 30 or (6,5)\n",
    "\n",
    "c = a.reshape(6,5)\n",
    "c            # same numbers'a' but in Matrix form"
   ]
  },
  {
   "cell_type": "code",
   "execution_count": 43,
   "id": "90d32928",
   "metadata": {},
   "outputs": [
    {
     "name": "stdout",
     "output_type": "stream",
     "text": [
      "Minimum value is 10\n",
      "Maximum value is 19\n"
     ]
    }
   ],
   "source": [
    "# MINIMUM & MAXIMUM VALUES :\n",
    "\n",
    "print('Minimum value is',c.min())\n",
    "print('Maximum value is',c.max())"
   ]
  },
  {
   "cell_type": "code",
   "execution_count": 45,
   "id": "2893e8ab",
   "metadata": {},
   "outputs": [
    {
     "data": {
      "text/plain": [
       "14.733333333333333"
      ]
     },
     "execution_count": 45,
     "metadata": {},
     "output_type": "execute_result"
    }
   ],
   "source": [
    "# MEAN :\n",
    "\n",
    "#np.mean(value/variable)\n",
    "\n",
    "np.mean(c)"
   ]
  },
  {
   "cell_type": "markdown",
   "id": "d0311f4e",
   "metadata": {},
   "source": [
    "## SORTING"
   ]
  },
  {
   "cell_type": "code",
   "execution_count": 48,
   "id": "efffefdd",
   "metadata": {},
   "outputs": [
    {
     "name": "stdout",
     "output_type": "stream",
     "text": [
      "\n",
      " 5*5 Matrix of random integers is :\n",
      " [[ 2 66 26 26 38]\n",
      " [92 87 85 75 17]\n",
      " [69 99 55 96 67]\n",
      " [13 50 48 15 95]\n",
      " [27 65 92  3  3]]\n",
      "\n",
      " sorted matrix along each row  is :\n",
      " [[ 2 26 26 38 66]\n",
      " [17 75 85 87 92]\n",
      " [55 67 69 96 99]\n",
      " [13 15 48 50 95]\n",
      " [ 3  3 27 65 92]]\n",
      "\n",
      " sorted matrix along each column is :\n",
      " [[ 2 50 26  3  3]\n",
      " [13 65 48 15 17]\n",
      " [27 66 55 26 38]\n",
      " [69 87 85 75 67]\n",
      " [92 99 92 96 95]]\n"
     ]
    }
   ],
   "source": [
    "M = ri(1,100,25).reshape(5,5) # matrix of random integers\n",
    "print('\\n 5*5 Matrix of random integers is :\\n',M)\n",
    "print('\\n sorted matrix along each row  is :\\n',np.sort(M)) # default axis = 1 (row)\n",
    "print('\\n sorted matrix along each column is :\\n',np.sort(M ,axis =0))   # axis =0 means column"
   ]
  },
  {
   "cell_type": "markdown",
   "id": "ab93bc9c",
   "metadata": {},
   "source": [
    "## NUMPY CONDITIONS"
   ]
  },
  {
   "cell_type": "code",
   "execution_count": 51,
   "id": "a192de1d",
   "metadata": {},
   "outputs": [
    {
     "data": {
      "text/plain": [
       "array([27359, 49663, 27866, 27192, 34018, 33019, 33076, 38978, 20099,\n",
       "       41483, 41801, 28254])"
      ]
     },
     "execution_count": 51,
     "metadata": {},
     "output_type": "execute_result"
    }
   ],
   "source": [
    "emp_sal = np.random.randint(20000,50000,12) # 12 random integer  values/numbers(salary)\n",
    "emp_sal\n"
   ]
  },
  {
   "cell_type": "code",
   "execution_count": 52,
   "id": "854e6a33",
   "metadata": {},
   "outputs": [
    {
     "data": {
      "text/plain": [
       "(array([ 0,  2,  3,  8, 11], dtype=int64),)"
      ]
     },
     "execution_count": 52,
     "metadata": {},
     "output_type": "execute_result"
    }
   ],
   "source": [
    "## WHERE i.e np.where: if you want to actual salary/values less than or greatr than some value or with any condition:\n",
    "\n",
    "np.where(emp_sal<30000)\n",
    "\n",
    "# it will give the index of those values which we want to find.\n",
    "\n",
    "# similary you can check for any conditions like ( < , > =, ==,!)"
   ]
  },
  {
   "cell_type": "code",
   "execution_count": 54,
   "id": "743ecc6a",
   "metadata": {},
   "outputs": [
    {
     "data": {
      "text/plain": [
       "array([27359, 27866, 27192, 20099, 28254])"
      ]
     },
     "execution_count": 54,
     "metadata": {},
     "output_type": "execute_result"
    }
   ],
   "source": [
    "# if we want to fatch that data not index then:\n",
    "\n",
    "emp_sal[np.where(emp_sal<30000)]    # must use square bracket to fatch the data."
   ]
  },
  {
   "cell_type": "code",
   "execution_count": 55,
   "id": "bd5dc4d6",
   "metadata": {},
   "outputs": [
    {
     "data": {
      "text/plain": [
       "array([27359, 40000, 27866, 27192, 34018, 33019, 33076, 38978, 20099,\n",
       "       40000, 40000, 28254])"
      ]
     },
     "execution_count": 55,
     "metadata": {},
     "output_type": "execute_result"
    }
   ],
   "source": [
    "## SET MINIMUM & MAXIMUM DATA USING min & max , clip :\n",
    "\n",
    "# np.clip(variable , a_min=n , a_max=m)\n",
    "\n",
    "np.clip(emp_sal ,a_min =20000 , a_max =40000) # use clip and a_min , a_max that means set one min and max value."
   ]
  },
  {
   "cell_type": "markdown",
   "id": "af23b2fc",
   "metadata": {},
   "source": [
    "## INDEXING & SLICING"
   ]
  },
  {
   "cell_type": "code",
   "execution_count": 57,
   "id": "ee75b94e",
   "metadata": {},
   "outputs": [
    {
     "name": "stdout",
     "output_type": "stream",
     "text": [
      "array: [10 11 12 13 14 15 16 17 18 19]\n"
     ]
    }
   ],
   "source": [
    " # varible = np.arange(start , stop , size)\n",
    "  \n",
    " arr =np.arange(10,20)\n",
    "print('array:',arr)  "
   ]
  },
  {
   "cell_type": "code",
   "execution_count": 59,
   "id": "d33e9a06",
   "metadata": {},
   "outputs": [
    {
     "name": "stdout",
     "output_type": "stream",
     "text": [
      "element with index 7 is : 17\n"
     ]
    },
    {
     "data": {
      "text/plain": [
       "17"
      ]
     },
     "execution_count": 59,
     "metadata": {},
     "output_type": "execute_result"
    }
   ],
   "source": [
    "# if want to know the element/value using its index then :\n",
    "\n",
    "print('element with index 7 is :',arr[7])  # optional method we can go with this too \n",
    "# as :\n",
    "arr[7] # if we dont want to use print."
   ]
  },
  {
   "cell_type": "code",
   "execution_count": 61,
   "id": "d75c4de4",
   "metadata": {
    "scrolled": true
   },
   "outputs": [
    {
     "name": "stdout",
     "output_type": "stream",
     "text": [
      "element with index 2 , 5 ,7 is : [12 15 17]\n"
     ]
    },
    {
     "data": {
      "text/plain": [
       "array([12, 13, 14, 15, 16])"
      ]
     },
     "execution_count": 61,
     "metadata": {},
     "output_type": "execute_result"
    }
   ],
   "source": [
    "# if we want to find multiple elements/ values with their index in a single shot then :\n",
    "\n",
    "print('element with index 2 , 5 ,7 is :',arr[[2,5,7]]) # firstly pass list then one more bracket formindex , so that it gives us list of multiple values.\n",
    "\n",
    "# also we can use slicing method i.e [start, stop]\n",
    "\n",
    "arr[2:7] # from index one to other , also can use step size bedefault it's 1."
   ]
  },
  {
   "cell_type": "code",
   "execution_count": 63,
   "id": "baee6f6b",
   "metadata": {},
   "outputs": [
    {
     "data": {
      "text/plain": [
       "array([[1, 2, 3],\n",
       "       [4, 5, 6],\n",
       "       [7, 8, 9]])"
      ]
     },
     "execution_count": 63,
     "metadata": {},
     "output_type": "execute_result"
    }
   ],
   "source": [
    "# MATRIX ( INDEXING & SLICING) : HOW TO EXTRACT DATA FROM MATRIX \n",
    "\n",
    "my_mat =[[1,2,3],[4,5,6],[7,8,9]]\n",
    "mat =np.array(my_mat)\n",
    "mat"
   ]
  },
  {
   "cell_type": "code",
   "execution_count": 64,
   "id": "a1e5c1bb",
   "metadata": {},
   "outputs": [
    {
     "data": {
      "text/plain": [
       "6"
      ]
     },
     "execution_count": 64,
     "metadata": {},
     "output_type": "execute_result"
    }
   ],
   "source": [
    "# data/element we want fatch in a matrix like matrix_name[row_index][column_index]:\n",
    "\n",
    "mat[1][2]  # element in row index 1 and column index 2"
   ]
  },
  {
   "cell_type": "code",
   "execution_count": 68,
   "id": "3a4d0daa",
   "metadata": {},
   "outputs": [
    {
     "data": {
      "text/plain": [
       "array([7, 8, 9])"
      ]
     },
     "execution_count": 68,
     "metadata": {},
     "output_type": "execute_result"
    }
   ],
   "source": [
    "# if we wanr to fatch entire row then : matrix_name[row_index]\n",
    "\n",
    "mat[2]  # row with index 2 is fethed"
   ]
  },
  {
   "cell_type": "code",
   "execution_count": 69,
   "id": "f8fb600d",
   "metadata": {},
   "outputs": [
    {
     "data": {
      "text/plain": [
       "array([4, 5, 6])"
      ]
     },
     "execution_count": 69,
     "metadata": {},
     "output_type": "execute_result"
    }
   ],
   "source": [
    "mat[1]  # row with index 1 is fetched."
   ]
  },
  {
   "cell_type": "code",
   "execution_count": 70,
   "id": "9c22380d",
   "metadata": {},
   "outputs": [
    {
     "data": {
      "text/plain": [
       "array([1, 2, 3])"
      ]
     },
     "execution_count": 70,
     "metadata": {},
     "output_type": "execute_result"
    }
   ],
   "source": [
    "mat[0]   # row with index 0 is fetched."
   ]
  },
  {
   "cell_type": "code",
   "execution_count": 76,
   "id": "95c784e2",
   "metadata": {},
   "outputs": [
    {
     "data": {
      "text/plain": [
       "array([3, 6, 9])"
      ]
     },
     "execution_count": 76,
     "metadata": {},
     "output_type": "execute_result"
    }
   ],
   "source": [
    "## for column : if we want to fetch entire column then : matrix_name[row,column]\n",
    "\n",
    "mat[:,2]  # all rows and column with index 3"
   ]
  },
  {
   "cell_type": "code",
   "execution_count": 77,
   "id": "485f5894",
   "metadata": {},
   "outputs": [
    {
     "data": {
      "text/plain": [
       "array([[2, 3],\n",
       "       [5, 6],\n",
       "       [8, 9]])"
      ]
     },
     "execution_count": 77,
     "metadata": {},
     "output_type": "execute_result"
    }
   ],
   "source": [
    "# if we want to have all column after an particular index with all rows then : matrix_name[:,index:]\n",
    "\n",
    "mat[:,1:]  # here we got all column after an column with index 1"
   ]
  },
  {
   "cell_type": "code",
   "execution_count": 78,
   "id": "5f043136",
   "metadata": {},
   "outputs": [
    {
     "data": {
      "text/plain": [
       "array([[1, 2, 3],\n",
       "       [4, 5, 6],\n",
       "       [7, 8, 9]])"
      ]
     },
     "execution_count": 78,
     "metadata": {},
     "output_type": "execute_result"
    }
   ],
   "source": [
    "# if we want to have all column before an particular index with all rows then : matrix_name[:,:index]\n",
    "\n",
    "mat[:,:3] # we only have column wth index 0 ,1,2 not 3 so end part is excluded .\n"
   ]
  },
  {
   "cell_type": "code",
   "execution_count": 79,
   "id": "ea95bad3",
   "metadata": {},
   "outputs": [
    {
     "data": {
      "text/plain": [
       "array([[5]])"
      ]
     },
     "execution_count": 79,
     "metadata": {},
     "output_type": "execute_result"
    }
   ],
   "source": [
    "# if we want to fetch element using both rows and column then : matrix_name[slicing for row , slicing for column]\n",
    "\n",
    "mat[1:2,1:2]  #for row with index 1 and for column with index 1 , becoz end index are excluded for both."
   ]
  },
  {
   "cell_type": "code",
   "execution_count": 80,
   "id": "f93476d4",
   "metadata": {},
   "outputs": [
    {
     "data": {
      "text/plain": [
       "array([[2, 3],\n",
       "       [5, 6]])"
      ]
     },
     "execution_count": 80,
     "metadata": {},
     "output_type": "execute_result"
    }
   ],
   "source": [
    "# matrix_name[slicing for row , [values of column i.e a,b]]\n",
    "\n",
    "mat[0:2,[1,2]]  # here we fetched rows with index 0 and 1 as index 2 is excluded , and column 1 and 2 both ."
   ]
  },
  {
   "cell_type": "markdown",
   "id": "108dbf2a",
   "metadata": {},
   "source": [
    "## UPDATE MATRIX"
   ]
  },
  {
   "cell_type": "code",
   "execution_count": 82,
   "id": "5b33829f",
   "metadata": {},
   "outputs": [
    {
     "data": {
      "text/plain": [
       "array([[ 1,  2,  3],\n",
       "       [ 4,  5, 35],\n",
       "       [ 7,  8,  9]])"
      ]
     },
     "execution_count": 82,
     "metadata": {},
     "output_type": "execute_result"
    }
   ],
   "source": [
    "# to update matrix : matrix_name[row,column]= new value\n",
    "\n",
    "mat[1,2]=35\n",
    "mat    # new value is updated at row with index 1 and at column with index 2"
   ]
  },
  {
   "cell_type": "code",
   "execution_count": 83,
   "id": "5b7d07cf",
   "metadata": {},
   "outputs": [
    {
     "data": {
      "text/plain": [
       "array([[  1,   2,   3],\n",
       "       [100,   5,  35],\n",
       "       [  7,   8,   9]])"
      ]
     },
     "execution_count": 83,
     "metadata": {},
     "output_type": "execute_result"
    }
   ],
   "source": [
    "mat[1,0]=100\n",
    "mat"
   ]
  },
  {
   "cell_type": "markdown",
   "id": "b00d0947",
   "metadata": {},
   "source": [
    "## SUBSETTING:\n",
    "\n",
    "If we have a Big Matrix (i.e of higher order /shape) , and if we want to consider some part /smaller part or some portion with conditions , then we'll go for subsetting. "
   ]
  },
  {
   "cell_type": "code",
   "execution_count": 5,
   "id": "0ebcde61",
   "metadata": {},
   "outputs": [],
   "source": [
    "import numpy as np\n",
    "from numpy.random import randint as ri"
   ]
  },
  {
   "cell_type": "code",
   "execution_count": 6,
   "id": "7678647a",
   "metadata": {},
   "outputs": [
    {
     "data": {
      "text/plain": [
       "array([[38, 70, 19, 49, 73],\n",
       "       [22, 38, 85, 81, 96],\n",
       "       [70, 19, 26, 72, 27]])"
      ]
     },
     "execution_count": 6,
     "metadata": {},
     "output_type": "execute_result"
    }
   ],
   "source": [
    "mat = np.array(ri(10,100,15)).reshape(3,5)\n",
    "# here 'ri' is randomint which takes random integer values ,reshape gives matrix of rows and columns.\n",
    "mat"
   ]
  },
  {
   "cell_type": "code",
   "execution_count": 7,
   "id": "4141fc4a",
   "metadata": {},
   "outputs": [
    {
     "data": {
      "text/plain": [
       "array([[False,  True, False, False,  True],\n",
       "       [False, False,  True,  True,  True],\n",
       "       [ True, False, False,  True, False]])"
      ]
     },
     "execution_count": 7,
     "metadata": {},
     "output_type": "execute_result"
    }
   ],
   "source": [
    "# if want so select some portion with condition like >,<,== , then we call it subsetting.\n",
    "mat>50\n",
    "\n",
    "# true false means it is checking condition with all elements , if >50 then true otherwise false."
   ]
  },
  {
   "cell_type": "code",
   "execution_count": 8,
   "id": "14fafb54",
   "metadata": {},
   "outputs": [
    {
     "data": {
      "text/plain": [
       "array([70, 73, 85, 81, 96, 70, 72])"
      ]
     },
     "execution_count": 8,
     "metadata": {},
     "output_type": "execute_result"
    }
   ],
   "source": [
    "# if want elements after condition checked , like if we want some portion/part then:\n",
    "\n",
    "mat[mat>50]"
   ]
  },
  {
   "cell_type": "code",
   "execution_count": 11,
   "id": "f86c97e4",
   "metadata": {},
   "outputs": [
    {
     "data": {
      "text/plain": [
       "array('fail', dtype='<U4')"
      ]
     },
     "execution_count": 11,
     "metadata": {},
     "output_type": "execute_result"
    }
   ],
   "source": [
    "# we can also use 'np.where' to return some data based on comdition\n",
    "\n",
    "marks =50\n",
    "np.where(marks>68 , 'pass','fail')    \n",
    "\n"
   ]
  },
  {
   "cell_type": "code",
   "execution_count": 12,
   "id": "1378fc76",
   "metadata": {},
   "outputs": [
    {
     "data": {
      "text/plain": [
       "array('pass', dtype='<U4')"
      ]
     },
     "execution_count": 12,
     "metadata": {},
     "output_type": "execute_result"
    }
   ],
   "source": [
    "marks=70\n",
    "np.where(marks>69 , 'pass','fail')"
   ]
  },
  {
   "cell_type": "code",
   "execution_count": 21,
   "id": "8cd37627",
   "metadata": {},
   "outputs": [
    {
     "name": "stdout",
     "output_type": "stream",
     "text": [
      "[ 27  10  25   1   0  48 -10   5   7  -7  25  27   5  27   1  -9 -10  39\n",
      "  15  31  33  43  45   9   4  -3  -3  33  44  38  21  45  46   3  -2  17\n",
      "  20   6   5  41   5  41  30  23  -9  33  20  21   0  18   4  -4  -9  41\n",
      "  45  13  49  12  33  28  22  -7 -10   2  19  46  12  12   0  17   0  -6\n",
      "  45  35  44  44  27  25  17  11   7   4  35  44  23  33   7  41  34  29\n",
      "  42  28  49  34   3  31   9  26  37  -4]\n"
     ]
    }
   ],
   "source": [
    "# Check non-zeros:\n",
    "\n",
    "non_zero = ri(-10,50,100)\n",
    "print(non_zero)\n"
   ]
  },
  {
   "cell_type": "code",
   "execution_count": 22,
   "id": "2747aac2",
   "metadata": {},
   "outputs": [
    {
     "data": {
      "text/plain": [
       "96"
      ]
     },
     "execution_count": 22,
     "metadata": {},
     "output_type": "execute_result"
    }
   ],
   "source": [
    "# if we want to count non_zero , then :\n",
    "# np.count_nonzero(filename)\n",
    "\n",
    "np.count_nonzero(non_zero)"
   ]
  },
  {
   "cell_type": "code",
   "execution_count": 23,
   "id": "3c30f04b",
   "metadata": {},
   "outputs": [
    {
     "data": {
      "text/plain": [
       "array([[ 9,  9,  5, 11],\n",
       "       [ 8,  6,  9, 12],\n",
       "       [ 2,  4,  9,  8]])"
      ]
     },
     "execution_count": 23,
     "metadata": {},
     "output_type": "execute_result"
    }
   ],
   "source": [
    "# 'Ravel' or 'Flatten' : This concept is used in Deep earning for Image Processing:\n",
    "\n",
    "array= np.array(ri(0,20,(3,4)))\n",
    "array"
   ]
  },
  {
   "cell_type": "code",
   "execution_count": 24,
   "id": "6a307b69",
   "metadata": {},
   "outputs": [
    {
     "data": {
      "text/plain": [
       "array([ 9,  9,  5, 11,  8,  6,  9, 12,  2,  4,  9,  8])"
      ]
     },
     "execution_count": 24,
     "metadata": {},
     "output_type": "execute_result"
    }
   ],
   "source": [
    "# filename.ravel(): 'ravel' means it will give data in one line.\n",
    "\n",
    "array.ravel()"
   ]
  },
  {
   "cell_type": "code",
   "execution_count": 25,
   "id": "02f53950",
   "metadata": {},
   "outputs": [
    {
     "data": {
      "text/plain": [
       "array([ 9,  9,  5, 11,  8,  6,  9, 12,  2,  4,  9,  8])"
      ]
     },
     "execution_count": 25,
     "metadata": {},
     "output_type": "execute_result"
    }
   ],
   "source": [
    "# filename.flatten(): 'flatten' also gives data in a line . both are exactly same.\n",
    "\n",
    "array.flatten()"
   ]
  },
  {
   "cell_type": "markdown",
   "id": "5cae64a5",
   "metadata": {},
   "source": [
    "## Universal Functions:"
   ]
  },
  {
   "cell_type": "code",
   "execution_count": 29,
   "id": "b7a7404d",
   "metadata": {},
   "outputs": [
    {
     "data": {
      "text/plain": [
       "array([[1, 3, 2],\n",
       "       [2, 5, 8],\n",
       "       [9, 1, 2]])"
      ]
     },
     "execution_count": 29,
     "metadata": {},
     "output_type": "execute_result"
    }
   ],
   "source": [
    "mat1 = np.array(ri(1,10,9)).reshape(3,3)\n",
    "\n",
    "mat1\n"
   ]
  },
  {
   "cell_type": "code",
   "execution_count": 30,
   "id": "9ceb19d0",
   "metadata": {},
   "outputs": [
    {
     "data": {
      "text/plain": [
       "array([[8, 4, 7],\n",
       "       [1, 8, 7],\n",
       "       [9, 9, 7]])"
      ]
     },
     "execution_count": 30,
     "metadata": {},
     "output_type": "execute_result"
    }
   ],
   "source": [
    "mat2 = np.array(ri(1,10,9)).reshape(3,3)\n",
    "\n",
    "mat2\n"
   ]
  },
  {
   "cell_type": "code",
   "execution_count": 31,
   "id": "263b6f54",
   "metadata": {},
   "outputs": [
    {
     "data": {
      "text/plain": [
       "array([[ 9,  7,  9],\n",
       "       [ 3, 13, 15],\n",
       "       [18, 10,  9]])"
      ]
     },
     "execution_count": 31,
     "metadata": {},
     "output_type": "execute_result"
    }
   ],
   "source": [
    "## Universal function like additin:\n",
    "\n",
    "mat1+mat2"
   ]
  },
  {
   "cell_type": "code",
   "execution_count": 32,
   "id": "cb025cb3",
   "metadata": {},
   "outputs": [
    {
     "data": {
      "text/plain": [
       "array([[ 8, 12, 14],\n",
       "       [ 2, 40, 56],\n",
       "       [81,  9, 14]])"
      ]
     },
     "execution_count": 32,
     "metadata": {},
     "output_type": "execute_result"
    }
   ],
   "source": [
    "# like multiplication :\n",
    "\n",
    "mat1*mat2"
   ]
  },
  {
   "cell_type": "code",
   "execution_count": 33,
   "id": "8bc7de2a",
   "metadata": {},
   "outputs": [
    {
     "data": {
      "text/plain": [
       "array([[-7, -1, -5],\n",
       "       [ 1, -3,  1],\n",
       "       [ 0, -8, -5]])"
      ]
     },
     "execution_count": 33,
     "metadata": {},
     "output_type": "execute_result"
    }
   ],
   "source": [
    "# like subtraction :\n",
    "\n",
    "mat1-mat2"
   ]
  },
  {
   "cell_type": "markdown",
   "id": "0d3a7d7d",
   "metadata": {},
   "source": [
    "## BROADCASTING"
   ]
  },
  {
   "cell_type": "code",
   "execution_count": null,
   "id": "52c5fd6b",
   "metadata": {},
   "outputs": [],
   "source": [
    "# numpy operations are  usually done in pairs of arrays on an element by element basis\n",
    "# In the simplest case , the two arrays must have exactly the same shape.\n",
    "# NumPy's Broadcasting rule relaxes this constraint when the arrays shape meets certain constraint\n",
    "# When operating on two arrays, NumPy comapares thier shape elementwise. It starts with the Trailing.\n",
    "# Two dimensions are compatible when they are equal and one of them is 1.\n",
    "\n"
   ]
  },
  {
   "cell_type": "code",
   "execution_count": 35,
   "id": "6e91f49f",
   "metadata": {},
   "outputs": [
    {
     "data": {
      "text/plain": [
       "array([[0., 0., 0.],\n",
       "       [0., 0., 0.],\n",
       "       [0., 0., 0.]])"
      ]
     },
     "execution_count": 35,
     "metadata": {},
     "output_type": "execute_result"
    }
   ],
   "source": [
    "start = np.zeros((3,3))\n",
    "start"
   ]
  },
  {
   "cell_type": "code",
   "execution_count": 45,
   "id": "3ec7d8a7",
   "metadata": {},
   "outputs": [
    {
     "data": {
      "text/plain": [
       "array([[1, 5, 6]])"
      ]
     },
     "execution_count": 45,
     "metadata": {},
     "output_type": "execute_result"
    }
   ],
   "source": [
    "# Create a rank 1 ndarray with three values i.e of 1*3\n",
    "\n",
    "arr = np.array([[1,5,6]])\n",
    "arr"
   ]
  },
  {
   "cell_type": "code",
   "execution_count": 38,
   "id": "1a5cfc61",
   "metadata": {},
   "outputs": [
    {
     "data": {
      "text/plain": [
       "array([[1., 5., 6.],\n",
       "       [1., 5., 6.],\n",
       "       [1., 5., 6.]])"
      ]
     },
     "execution_count": 38,
     "metadata": {},
     "output_type": "execute_result"
    }
   ],
   "source": [
    "now = start+arr\n",
    "now\n"
   ]
  },
  {
   "cell_type": "code",
   "execution_count": 47,
   "id": "92ceee05",
   "metadata": {},
   "outputs": [
    {
     "data": {
      "text/plain": [
       "array([[1],\n",
       "       [5],\n",
       "       [6]])"
      ]
     },
     "execution_count": 47,
     "metadata": {},
     "output_type": "execute_result"
    }
   ],
   "source": [
    "# TRANPOSE (filename.T) ; here .T used for Transpose.\n",
    "\n",
    "new_row = arr.T\n",
    "new_row"
   ]
  },
  {
   "cell_type": "code",
   "execution_count": 49,
   "id": "d692351b",
   "metadata": {},
   "outputs": [
    {
     "data": {
      "text/plain": [
       "array([[1., 1., 1.],\n",
       "       [5., 5., 5.],\n",
       "       [6., 6., 6.]])"
      ]
     },
     "execution_count": 49,
     "metadata": {},
     "output_type": "execute_result"
    }
   ],
   "source": [
    "# now add matrix to transposed array:\n",
    "\n",
    "start+new_row"
   ]
  },
  {
   "cell_type": "markdown",
   "id": "95bcb79e",
   "metadata": {},
   "source": [
    "## NUMPY COMPLETED"
   ]
  }
 ],
 "metadata": {
  "kernelspec": {
   "display_name": "Python 3 (ipykernel)",
   "language": "python",
   "name": "python3"
  },
  "language_info": {
   "codemirror_mode": {
    "name": "ipython",
    "version": 3
   },
   "file_extension": ".py",
   "mimetype": "text/x-python",
   "name": "python",
   "nbconvert_exporter": "python",
   "pygments_lexer": "ipython3",
   "version": "3.9.12"
  }
 },
 "nbformat": 4,
 "nbformat_minor": 5
}
